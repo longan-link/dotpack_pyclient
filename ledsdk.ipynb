{
 "cells": [
  {
   "cell_type": "code",
   "execution_count": 9,
   "metadata": {},
   "outputs": [],
   "source": [
    "from ledpanel import ledpanel\n",
    "#addr=\"34:94:54:F0:5D:2A\"\n",
    "#addr = \"34:94:54:f0:6d:7a\"\n",
    "addr = \"34:94:54:ba:9b:42\"\n",
    "a=ledpanel(addr)"
   ]
  },
  {
   "cell_type": "code",
   "execution_count": 10,
   "metadata": {},
   "outputs": [],
   "source": [
    "await a.connect()"
   ]
  },
  {
   "cell_type": "code",
   "execution_count": 5,
   "metadata": {},
   "outputs": [],
   "source": [
    "await a.speed(50)"
   ]
  },
  {
   "cell_type": "code",
   "execution_count": 18,
   "metadata": {},
   "outputs": [
    {
     "name": "stdout",
     "output_type": "stream",
     "text": [
      "received: bytearray(b'$18 UP:0|FM:53132|W:16|H:16|BR:31|SE:175;')\n"
     ]
    }
   ],
   "source": [
    "await a.tetris()"
   ]
  },
  {
   "cell_type": "code",
   "execution_count": 7,
   "metadata": {},
   "outputs": [],
   "source": [
    "await a.left()"
   ]
  },
  {
   "cell_type": "code",
   "execution_count": 9,
   "metadata": {},
   "outputs": [],
   "source": [
    "await a.stop()"
   ]
  },
  {
   "cell_type": "code",
   "execution_count": 61,
   "metadata": {},
   "outputs": [],
   "source": [
    "await a.set_mode(\"swirl\")"
   ]
  },
  {
   "cell_type": "code",
   "execution_count": 11,
   "metadata": {},
   "outputs": [],
   "source": [
    "await a.set_mode(\"fire2\")"
   ]
  },
  {
   "cell_type": "code",
   "execution_count": 62,
   "metadata": {},
   "outputs": [
    {
     "name": "stdout",
     "output_type": "stream",
     "text": [
      "received: bytearray(b'$18 ERR:[];')\n"
     ]
    }
   ],
   "source": [
    "await a.display_fs_picture(\"FS\",\"3\")"
   ]
  },
  {
   "cell_type": "code",
   "execution_count": 61,
   "metadata": {},
   "outputs": [],
   "source": [
    "await a.cleareeprom()"
   ]
  },
  {
   "cell_type": "code",
   "execution_count": 85,
   "metadata": {},
   "outputs": [],
   "source": [
    "await a.delete_allpicture(\"FS\")"
   ]
  },
  {
   "cell_type": "code",
   "execution_count": 20,
   "metadata": {},
   "outputs": [
    {
     "name": "stdout",
     "output_type": "stream",
     "text": [
      "received: bytearray(b'$18 ERR : [WiFiPanel v.1.15.2022.0218] ; ')\n"
     ]
    }
   ],
   "source": [
    "await a.firmware_ver()"
   ]
  },
  {
   "cell_type": "code",
   "execution_count": 21,
   "metadata": {},
   "outputs": [
    {
     "name": "stdout",
     "output_type": "stream",
     "text": [
      "received: bytearray(b'$18 FL:[20220315174018-\\xe7\\xa9\\xba \\xe6\\xa0\\xbc,20220315174103-\\xe9\\xbb\\x91 \\xe6\\xbc\\x86 \\xe6\\xbc\\x86,20220315174750-IMG_20220315_174750,20220315174820-IMG_20220315_174820,20220315175521-\\xe6\\x94\\xb9\\xe5\\x90\\x8d,20220315180716-IMG_20220315_180716,20220315182238-IMG_20220315_182238,20220315182427-\\xe4\\xba\\x94\\xe9\\xa2\\x9c\\xe5\\x85\\xad\\xe8\\x89\\xb2,20220315182450-IMG_20220315_182450,20220315182849-IMG_20220315_182849,20220316094503-\\xe6\\x94\\xb9\\xe5\\x90\\x8d1,20220316094718-IMG_20220316_094718,20220316100950-IMG_20220316_100950,20220316101241-IMG_20220316_101241,20220316101309-IMG_,20220316101704-IMG_20220316_101\\xe6\\xb0\\x91\\xe5\\x9b\\xbd\\xe9\\xa3\\x8e,2022031')\n",
      "received: bytearray(b'6103450-IMG_20220316_103450,20220316103533-IMG_20220316_103533,20220316123028-IMG_20220316_123028,20220316155532-IMG_20220316_155532,20220316160504-IMG_20220316_160504,20220316161844-IMG_20220316_161844,20220316162009-IMG_20220316_162009,20220316162558-IMG_20220316_162558,20220316182955-IMG_20220316_182955,20220316183106-IMG_20220316_183106,20220316183153-\\xe7\\xae\\xad\\xe5\\xa4\\xb4,20220316183427-IMG_20220316_183427,20220316184012-IMG_20220316_184012,20220316184304-IMG_20220316_184304,20220316184358-IMG_20220316_184358,202203161')\n",
      "received: bytearray(b'85238-IMG_20220316_185238,20220316185701-IMG_20220316_185701,20220316190141-IMG_20220316_190141,20220316190231-IMG_20220316_190231,20220316190907-IMG_20220316_190907,20220316193807-IMG_20220316_193807,20220316195408-IMG_20220316_195408,20220316195455-IMG_20220316_195455,20220316195651-IMG_20220316_195651,20220316195800-IMG_20220316_195800,20220316195935-IMG_20220316_195935,20220316200015-IMG_20220316_200015,20220316200035-IMG_20220316_200035,20220316200136-IMG_20220316_200136,20220316200450-IMG_20220316_20045')\n",
      "received: bytearray(b'0,20220317095851-IMG_20220317_095851,20220317105110-IMG_20220317_105110,20220317105145-IMG_20220317_105145];')\n"
     ]
    }
   ],
   "source": [
    "await a.request_fs_files()"
   ]
  },
  {
   "cell_type": "code",
   "execution_count": 25,
   "metadata": {},
   "outputs": [
    {
     "name": "stdout",
     "output_type": "stream",
     "text": [
      "received: bytearray(b'$18 ERR:[];')\n",
      "received: bytearray(b'$18 IR:0~00299B 003D9C 00529E 005EA1 0068A4 006DA7 0072AB 0077AE 007DB1 007CAF 0074AB 0068A7 005EA2 00559E 00559C 00579C;')\n",
      "received: bytearray(b'$18 IR:1~00299C 003D9C 0052A0 005EA2 0068A5 006DA9 0077AF 007FB4 0081B5 0082B5 0079B1 006DAA 005EA4 00529F 004F9C 00529C;')\n",
      "received: bytearray(b'$18 IR:2~00319C 00419E 0052A1 0060A4 006DAB 0075B1 007FB6 0088BB 008BBC 0091C0 0085B9 0072AF 005EA7 004FA1 004C9E 004C9C;')\n",
      "received: bytearray(b'$18 IR:3~003D9C 00459F 0052A1 0062A6 0085BA 008ABE 0086BD 0096C6 0099C7 009EC9 008EC0 0079B5 0062AC 0052A3 00499F 00499C;')\n",
      "received: bytearray(b'$18 IR:4~00459C 0052A3 006AAE 0072B1 0088BE 008DC2 0091C6 00A7D2 00ACD4 00A2CE 0098C7 0082BC 0068B1 0055A7 0049A0 00459C;')\n",
      "received: bytearray(b'$18 IR:5~0052A1 0077B4 008EC1 0075B4 007DB9 0085C0 0090C8 00B5DC 00B8DD 00B8DC 00A4D0 008CC3 0072B7 005EAD 004CA3 00499E;')\n",
      "received: bytearray(b'$18 IR:6~0062A5 0088BB 0084BA 0084BB 007DBB 0091C9 0097CF 00A7D8 00BBE1 00C0E2 00AFD8 0095CA 0079BC 0062AF 004FA4 004CA0;')\n",
      "received: bytearray(b'$18 IR:7~0066A5 007BB2 0082B8 0082BB 009BCC 0093CC 00A1D6 00ABDD 00BBE4 00C3E5 00BBE0 00A0D0 0082C1 006DB4 0057A7 0052A1;')\n",
      "received: bytearray(b'$18 IR:8~007FB2 006CA8 0072AF 007CB8 008EC6 008BCA 00A1D9 00C5EA 00C7EB 00C8E9 00C3E4 00AFD8 0097CA 0077B8 0060A9 0057A2;')\n",
      "received: bytearray(b'$18 IR:9~0068A2 006DA8 0075B0 007BB8 0088C4 009FD4 00A6DD 00C1EA 00D1F0 00D5F0 00C7E7 00BDE0 00A8D3 0096C7 0071B0 0064A6;')\n",
      "received: bytearray(b'$18 IR:10~0068A1 0072AA 0077B1 0075B5 0090C8 00A2D7 0098D9 00BBE9 00C9EE 00CBED 00D2EC 00C9E5 00AED5 0092C4 0079B3 006FA9;')\n",
      "received: bytearray(b'$18 IR:11~006AA2 006FA8 0072AE 0075B4 0085C3 009AD3 009CDA 00ACE4 00B8E9 00C1EA 00CEEB 00BFE0 00A2CF 0087BD 0080B5 0072AB;')\n",
      "received: bytearray(b'$18 IR:12~006CA3 0071A9 006FAC 0078B6 0081C0 008ECE 009EDA 00A6E2 00B5E7 00C0E9 00C0E4 00B9DE 00A1CE 0089BD 008BBA 0079AE;')\n",
      "received: bytearray(b'$18 IR:13~006AA2 006DA7 0072AC 007DB8 0086C3 008BCB 0095D7 00A2DF 00AAE1 00ACE0 00B1DE 00AED8 008EC3 007CB5 0072AC 0071A7;')\n",
      "received: bytearray(b'$18 IR:14~006AA1 006CA5 0072AC 007FB8 0086C2 008ACA 0092D4 009EDC 00A5DE 00A5DC 00A6D9 009ACE 0088BF 007CB4 0072AA 006CA4;')\n",
      "received: bytearray(b'$18 IR:15~0068A0 006DA5 0075AD 007DB7 0084C0 0088C8 0090D1 0098D9 00A2DC 00A3DB 009BD3 0091CA 0086BE 007BB3 0072AA 006CA4;')\n"
     ]
    }
   ],
   "source": [
    "await a.getfile(\"FS\",\"test\")"
   ]
  },
  {
   "cell_type": "code",
   "execution_count": 79,
   "metadata": {},
   "outputs": [
    {
     "name": "stdout",
     "output_type": "stream",
     "text": [
      "received: bytearray(b'$18 UP:0|FM:53780|AL:0|W:16|H:16|DM:0|PS:0|PD:60|IT:0|RM:1|PW:10000|BR:13|WZ:0|FS:1|EE:0;')\n"
     ]
    }
   ],
   "source": [
    "await a.off()"
   ]
  },
  {
   "cell_type": "code",
   "execution_count": 14,
   "metadata": {},
   "outputs": [
    {
     "name": "stdout",
     "output_type": "stream",
     "text": [
      "received: bytearray(b'$18 UP:0|FM:54740|AL:0|W:16|H:16|DM:0|PS:1|PD:60|IT:0|RM:1|PW:10000|BR:10|WZ:0|FS:1|EE:0;')\n"
     ]
    }
   ],
   "source": [
    "await a.on()"
   ]
  },
  {
   "cell_type": "code",
   "execution_count": 97,
   "metadata": {},
   "outputs": [],
   "source": [
    "await a.set_mode(\"s8\")\n",
    "#equal to off()"
   ]
  },
  {
   "cell_type": "code",
   "execution_count": 8,
   "metadata": {},
   "outputs": [],
   "source": [
    "await a.set_brightness(10)"
   ]
  },
  {
   "cell_type": "code",
   "execution_count": 9,
   "metadata": {},
   "outputs": [],
   "source": [
    "await a.set_mode(\"black\")"
   ]
  },
  {
   "cell_type": "code",
   "execution_count": 12,
   "metadata": {},
   "outputs": [],
   "source": [
    "await a.set_mode(\"white\")"
   ]
  },
  {
   "cell_type": "code",
   "execution_count": 96,
   "metadata": {},
   "outputs": [],
   "source": [
    "await a.set_mode(\"color\")\n",
    "#no effect currently"
   ]
  },
  {
   "cell_type": "code",
   "execution_count": 11,
   "metadata": {},
   "outputs": [],
   "source": [
    "await a.set_mode(\"fire\")"
   ]
  },
  {
   "cell_type": "code",
   "execution_count": 9,
   "metadata": {},
   "outputs": [],
   "source": [
    "await a.set_mode(\"confetti\")"
   ]
  },
  {
   "cell_type": "code",
   "execution_count": 10,
   "metadata": {},
   "outputs": [],
   "source": [
    "await a.set_mode(\"rainbow\")"
   ]
  },
  {
   "cell_type": "code",
   "execution_count": 30,
   "metadata": {},
   "outputs": [],
   "source": [
    "await a.set_mode(\"matrix\")"
   ]
  },
  {
   "cell_type": "code",
   "execution_count": 31,
   "metadata": {},
   "outputs": [],
   "source": [
    "await a.set_mode(\"fireflies\")"
   ]
  },
  {
   "cell_type": "code",
   "execution_count": 42,
   "metadata": {},
   "outputs": [],
   "source": [
    "await a.set_mode(\"arrows\")\n",
    "#no effect currently"
   ]
  },
  {
   "cell_type": "code",
   "execution_count": 35,
   "metadata": {},
   "outputs": [],
   "source": [
    "await a.set_mode(\"noise_ocean\")"
   ]
  },
  {
   "cell_type": "code",
   "execution_count": 13,
   "metadata": {},
   "outputs": [],
   "source": [
    "await a.set_mode(\"snow\")\n",
    "#no effect currently"
   ]
  },
  {
   "cell_type": "code",
   "execution_count": 7,
   "metadata": {},
   "outputs": [],
   "source": [
    "await a.set_mode(\"ball\")"
   ]
  },
  {
   "cell_type": "code",
   "execution_count": 8,
   "metadata": {},
   "outputs": [],
   "source": [
    "await a.set_mode(\"balls\")"
   ]
  },
  {
   "cell_type": "code",
   "execution_count": 5,
   "metadata": {},
   "outputs": [],
   "source": [
    "await a.set_mode(\"starfall\")"
   ]
  },
  {
   "cell_type": "code",
   "execution_count": 6,
   "metadata": {},
   "outputs": [],
   "source": [
    "await a.set_mode(\"sparkles\")"
   ]
  },
  {
   "cell_type": "code",
   "execution_count": 50,
   "metadata": {},
   "outputs": [],
   "source": [
    "await a.set_mode(\"noise_madness\")"
   ]
  },
  {
   "cell_type": "code",
   "execution_count": 109,
   "metadata": {},
   "outputs": [],
   "source": [
    "await a.set_mode(\"noise_cloud\")"
   ]
  },
  {
   "cell_type": "code",
   "execution_count": 52,
   "metadata": {},
   "outputs": [],
   "source": [
    "await a.set_mode(\"noise_lava\")"
   ]
  },
  {
   "cell_type": "code",
   "execution_count": 53,
   "metadata": {},
   "outputs": [],
   "source": [
    "await a.set_mode(\"noise_plasma\")"
   ]
  },
  {
   "cell_type": "code",
   "execution_count": 95,
   "metadata": {},
   "outputs": [],
   "source": [
    "await a.set_mode(\"noise_rainbow\")"
   ]
  },
  {
   "cell_type": "code",
   "execution_count": 94,
   "metadata": {},
   "outputs": [],
   "source": [
    "await a.set_mode(\"noise_rrainbow_strip\")"
   ]
  },
  {
   "cell_type": "code",
   "execution_count": 19,
   "metadata": {},
   "outputs": [],
   "source": [
    "await a.set_mode(\"noise_zebra\")"
   ]
  },
  {
   "cell_type": "code",
   "execution_count": 18,
   "metadata": {},
   "outputs": [],
   "source": [
    "await a.set_mode(\"colors\")"
   ]
  },
  {
   "cell_type": "code",
   "execution_count": 96,
   "metadata": {},
   "outputs": [],
   "source": [
    "await a.set_mode(\"swirl\")"
   ]
  },
  {
   "cell_type": "code",
   "execution_count": 7,
   "metadata": {},
   "outputs": [],
   "source": [
    "await a.set_mode(\"cyclon\")"
   ]
  },
  {
   "cell_type": "code",
   "execution_count": 75,
   "metadata": {},
   "outputs": [],
   "source": [
    "await a.set_mode(\"flicker\")"
   ]
  },
  {
   "cell_type": "code",
   "execution_count": 60,
   "metadata": {},
   "outputs": [],
   "source": [
    "await a.set_mode(\"pacifica\")"
   ]
  },
  {
   "cell_type": "code",
   "execution_count": 90,
   "metadata": {},
   "outputs": [],
   "source": [
    "await a.set_mode(\"shadows\")"
   ]
  },
  {
   "cell_type": "code",
   "execution_count": 62,
   "metadata": {},
   "outputs": [],
   "source": [
    "await a.set_mode(\"maze\")"
   ]
  },
  {
   "cell_type": "code",
   "execution_count": 63,
   "metadata": {},
   "outputs": [],
   "source": [
    "await a.set_mode(\"snake\")"
   ]
  },
  {
   "cell_type": "code",
   "execution_count": 64,
   "metadata": {},
   "outputs": [],
   "source": [
    "await a.set_mode(\"tetris\")"
   ]
  },
  {
   "cell_type": "code",
   "execution_count": 72,
   "metadata": {},
   "outputs": [],
   "source": [
    "await a.set_mode(\"arkanoid\")"
   ]
  },
  {
   "cell_type": "code",
   "execution_count": 98,
   "metadata": {},
   "outputs": [],
   "source": [
    "await a.set_mode(\"palette\")"
   ]
  },
  {
   "cell_type": "code",
   "execution_count": 71,
   "metadata": {},
   "outputs": [],
   "source": [
    "await a.set_mode(\"analyzer\")"
   ]
  },
  {
   "cell_type": "code",
   "execution_count": 68,
   "metadata": {},
   "outputs": [
    {
     "name": "stdout",
     "output_type": "stream",
     "text": [
      "received: bytearray(b'{\"message\":\"unknown command\",\"text\":\"unknown command \\'$14 40;\\'\"}')\n"
     ]
    }
   ],
   "source": [
    "await a.set_mode(\"clock\")"
   ]
  },
  {
   "cell_type": "code",
   "execution_count": 69,
   "metadata": {},
   "outputs": [],
   "source": [
    "await a.set_mode(\"nightclock\")"
   ]
  },
  {
   "cell_type": "code",
   "execution_count": 70,
   "metadata": {},
   "outputs": [],
   "source": [
    "await a.set_mode(\"offclock\")"
   ]
  },
  {
   "cell_type": "code",
   "execution_count": 43,
   "metadata": {},
   "outputs": [
    {
     "name": "stdout",
     "output_type": "stream",
     "text": [
      "received: bytearray(b'#L 15-15 ack15;')\n"
     ]
    }
   ],
   "source": [
    "await a.test(\"$6 11|15 93ccf1 0|6ebdee 1|5fb2dc 2|cfc35b 3|fbdb52 4|fdd11c 5|fcce12 6|f7ac0d 7|f9a60c 8|fdbb0c 9|fccd0e 10|f8cd15 11|dbc85a 12|93cbe9 13|87c7f2 14|85c5ef 15;\")"
   ]
  },
  {
   "cell_type": "code",
   "execution_count": 16,
   "metadata": {},
   "outputs": [
    {
     "name": "stdout",
     "output_type": "stream",
     "text": [
      "$6 11|0 8ecbf0 0|74beed 1|64b7ea 2|71bdec 3|75bfef 4|6cbdf3 5|67baee 6|61b5ef 7|63b7ed 8|7bc1ee 9|8ac9f0 10|8dcaf0 11|78c0ed 12|5eb4ea 13|66b7eb 14|68b7eb 15;\n",
      "$6 11|1 98cff2 0|79c1ed 1|69baeb 2|69b9ed 3|7dc0e5 4|a0be8c 5|b9ba49 6|9ac0a6 7|6bbbe2 8|6ebcef 9|83c6f2 10|89c9f1 11|77bfed 12|67b7eb 13|61b6eb 14|63b7eb 15;\n",
      "$6 11|2 a5d4f4 0|8ac8f0 1|76beee 2|6abaf0 3|b9b94f 4|ebc60b 5|edc92f 6|f9d734 7|f4dd3e 8|b3c98a 9|8ecbe7 10|9fd2ef 11|84c5f2 12|6abaeb 13|6abbec 14|72beed 15;\n",
      "$6 11|3 9fd1f3 0|8bc8f0 1|6fbcf2 2|85b09b 3|e7cc40 4|f9df50 5|f9cf18 6|fdda0d 7|ffdb19 8|fde034 9|f4dc39 10|e7ce39 11|9dc9cd 12|7ec4f4 13|8dcaf0 14|8bc9f0 15;\n",
      "$6 11|4 93ccf1 0|6ebdee 1|5fb2dc 2|cfc35b 3|fbdb52 4|fdd11c 5|fcce12 6|f7ac0d 7|f9a60c 8|fdbb0c 9|fccd0e 10|f8cd15 11|dbc85a 12|93cbe9 13|87c7f2 14|85c5ef 15;\n",
      "$6 11|5 6ebced 0|45adeb 1|5bb2d6 2|e7c840 3|fbbf00 4|fbc815 5|f7b814 6|eb8b05 7|da7207 8|e48605 9|ec9f00 10|f2b902 11|f1bd0e 12|adc39b 13|63b8f2 14|69b9eb 15;\n",
      "$6 11|6 55b2ea 0|4bb0ec 1|61b3d5 2|dcbc2b 3|fee244 4|eeaf19 5|eea123 6|eb9910 7|b85607 8|d06e0c 9|eda111 10|fad129 11|fad12a 12|cdc466 13|61b7ef 14|54b1ea 15;\n",
      "$6 11|7 50b0e9 0|57b4f0 1|73aeba 2|cf9d0c 3|f5d94a 4|f6c227 5|f3a914 6|f8bb19 7|f5b914 8|efa00f 9|f2ae1a 10|fee446 11|efc81f 12|dbaf1c 13|8cbab1 14|44aced 15;\n",
      "$6 11|8 27a3e5 0|57b2ed 1|75b2cb 2|d5ba53 3|e6b528 4|f2c34b 5|e88e09 6|eb9a18 7|e38114 8|efa822 9|f2c32e 10|efbe2a 11|e2b52b 12|e4c234 13|b5c47d 14|57b2f0 15;\n",
      "$6 11|9 33a5e5 0|52afe8 1|62b5ec 2|91a692 3|ce950e 4|ddac42 5|e09c4e 6|e18c15 7|e8a117 8|df9b0d 9|d18008 10|e8ba4c 11|eac75b 12|d0bd4d 13|67a7b4 14|52ade8 15;\n",
      "$6 11|10 61b4ea 0|5bb3ea 1|6cbbed 2|75abce 3|788261 4|b98b19 5|c4871d 6|ce9d30 7|ca910f 8|cc9327 9|c99532 10|be9633 11|9e9b5f 12|73a7b1 13|5cb0e9 14|5ab1e7 15;\n",
      "$6 11|11 5eb4e9 0|63b7ea 1|77c0ed 2|85c4ee 3|7fbce8 4|8aabaf 5|9f6811 6|9b5901 7|916b1e 8|a07419 9|90721b 10|5ea6c0 11|61b8f0 12|72bef3 13|76beed 14|66b7ea 15;\n",
      "$6 11|12 37a7e6 0|61b6ea 1|7dc1ee 2|81c4ef 3|87c5ec 4|8bc2e6 5|8aa2a7 6|6e623e 7|516f6c 8|5899ba 9|4483a0 10|4fa7dc 11|6cb5e2 12|84c6ef 13|7ec3ee 14|7bc0ed 15;\n",
      "$6 11|13 42abe7 0|42abe7 1|58b3ea 2|5eb6ea 3|71bdec 4|8ccbf2 5|96d2f8 6|6d7d72 7|81b9de 8|75c2f4 9|5cb8f1 10|62b5eb 11|6ebae9 12|7fc3ee 13|90caf0 14|8bc8f0 15;\n",
      "$6 11|14 67b7eb 0|49ade8 1|45ace7 2|3eaae7 3|5bb4e9 4|88c8f1 5|a2cee6 6|778168 7|96cdf1 8|91ccf1 9|7dc1ed 10|6ab7eb 11|6dbaec 12|7cc1ee 13|8fcaf0 14|85c5ef 15;\n",
      "$6 11|15 7ec1ee 0|79bfed 1|5bb3e9 2|43ace7 3|46ade8 4|7ec5f2 5|93c0d3 6|748679 7|9ad3f8 8|9ed3f3 9|83c5ef 10|78beec 11|79bfed 12|81c3ee 13|7ac0ed 14|7ac0ed 15;\n",
      "received: bytearray(b'#L 0-15 ack16;')\n",
      "received: bytearray(b'#L 1-15 ack17;')\n",
      "received: bytearray(b'#L 2-15 ack18;')\n",
      "received: bytearray(b'#L 3-15 ack19;')\n",
      "received: bytearray(b'#L 4-15 ack20;')\n",
      "received: bytearray(b'#L 5-15 ack21;')\n",
      "received: bytearray(b'#L 6-15 ack22;')\n",
      "received: bytearray(b'#L 7-15 ack23;')\n",
      "received: bytearray(b'#L 8-15 ack24;')\n",
      "received: bytearray(b'#L 9-15 ack25;')\n",
      "received: bytearray(b'#L 10-15 ack26;')\n",
      "received: bytearray(b'#L 11-15 ack27;')\n",
      "received: bytearray(b'#L 12-15 ack28;')\n",
      "received: bytearray(b'#L 13-15 ack29;')\n",
      "received: bytearray(b'#L 14-15 ack30;')\n",
      "received: bytearray(b'#L 15-15 ack31;')\n"
     ]
    }
   ],
   "source": [
    "from PIL import Image\n",
    "file = \"/home/cweib/ledPanelPythonClient/yellow.jpeg\"\n",
    "img = Image.open(file)\n",
    "import sys\n",
    "if img is None:\n",
    "    sys.exit(\"Could not read the image.\")\n",
    "for i in range (1): #tested 255 times no noticable lag\n",
    "    await a.upload_image(img)"
   ]
  },
  {
   "cell_type": "code",
   "execution_count": 5,
   "metadata": {},
   "outputs": [
    {
     "name": "stdout",
     "output_type": "stream",
     "text": [
      "received: bytearray(b'$18 ERR:[];')\n",
      "received: bytearray(b'$18 ERR:[];')\n",
      "received: bytearray(b'$18 ERR:[];')\n",
      "received: bytearray(b'$18 ERR:[];')\n"
     ]
    },
    {
     "ename": "CancelledError",
     "evalue": "",
     "output_type": "error",
     "traceback": [
      "\u001b[0;31m---------------------------------------------------------------------------\u001b[0m",
      "\u001b[0;31mCancelledError\u001b[0m                            Traceback (most recent call last)",
      "\u001b[1;32m/home/cweib/ledPanelPythonClient/ledsdk.ipynb Cell 41'\u001b[0m in \u001b[0;36m<module>\u001b[0;34m\u001b[0m\n\u001b[1;32m      <a href='vscode-notebook-cell:/home/cweib/ledPanelPythonClient/ledsdk.ipynb#ch0000041?line=0'>1</a>\u001b[0m \u001b[39mfor\u001b[39;00m i \u001b[39min\u001b[39;00m \u001b[39mrange\u001b[39m(\u001b[39m512\u001b[39m):    \u001b[39m#tested write 512 times ,need asyncio.wait for frequency write\u001b[39;00m\n\u001b[0;32m----> <a href='vscode-notebook-cell:/home/cweib/ledPanelPythonClient/ledsdk.ipynb#ch0000041?line=1'>2</a>\u001b[0m     \u001b[39mawait\u001b[39;00m a\u001b[39m.\u001b[39msave_current_picture(\u001b[39m\"\u001b[39m\u001b[39mFS\u001b[39m\u001b[39m\"\u001b[39m,\u001b[39m\"\u001b[39m\u001b[39m%d\u001b[39;00m\u001b[39m\"\u001b[39m\u001b[39m%\u001b[39m(i))\n",
      "File \u001b[0;32m~/ledPanelPythonClient/ledpanel.py:216\u001b[0m, in \u001b[0;36mledpanel.save_current_picture\u001b[0;34m(self, fs, filename)\u001b[0m\n\u001b[1;32m    <a href='file:///~/ledPanelPythonClient/ledpanel.py?line=213'>214</a>\u001b[0m \u001b[39melif\u001b[39;00m fs\u001b[39m==\u001b[39m\u001b[39m\"\u001b[39m\u001b[39mSD\u001b[39m\u001b[39m\"\u001b[39m:\n\u001b[1;32m    <a href='file:///~/ledPanelPythonClient/ledpanel.py?line=214'>215</a>\u001b[0m     data\u001b[39m=\u001b[39m\u001b[39mbytearray\u001b[39m(\u001b[39m\"\u001b[39m\u001b[39m$6 16|SD \u001b[39m\u001b[39m%s\u001b[39;00m\u001b[39m;\u001b[39m\u001b[39m\"\u001b[39m\u001b[39m%\u001b[39m(filename),\u001b[39m'\u001b[39m\u001b[39mutf-8\u001b[39m\u001b[39m'\u001b[39m)\n\u001b[0;32m--> <a href='file:///~/ledPanelPythonClient/ledpanel.py?line=215'>216</a>\u001b[0m \u001b[39mawait\u001b[39;00m \u001b[39mself\u001b[39m\u001b[39m.\u001b[39mclient\u001b[39m.\u001b[39mwrite_gatt_char(CHARACTERISTIC_UUID_RX, data)\n",
      "File \u001b[0;32m~/.local/lib/python3.9/site-packages/bleak/backends/bluezdbus/client.py:787\u001b[0m, in \u001b[0;36mBleakClientBlueZDBus.write_gatt_char\u001b[0;34m(self, char_specifier, data, response)\u001b[0m\n\u001b[1;32m    <a href='file:///~/.local/lib/python3.9/site-packages/bleak/backends/bluezdbus/client.py?line=783'>784</a>\u001b[0m     \u001b[39mraise\u001b[39;00m BleakError(\u001b[39m\"\u001b[39m\u001b[39mWrite without response requires at least BlueZ 5.46\u001b[39m\u001b[39m\"\u001b[39m)\n\u001b[1;32m    <a href='file:///~/.local/lib/python3.9/site-packages/bleak/backends/bluezdbus/client.py?line=784'>785</a>\u001b[0m \u001b[39mif\u001b[39;00m response \u001b[39mor\u001b[39;00m \u001b[39mnot\u001b[39;00m \u001b[39mself\u001b[39m\u001b[39m.\u001b[39m_write_without_response_workaround_needed:\n\u001b[1;32m    <a href='file:///~/.local/lib/python3.9/site-packages/bleak/backends/bluezdbus/client.py?line=785'>786</a>\u001b[0m     \u001b[39m# TODO: Add OnValueUpdated handler for response=True?\u001b[39;00m\n\u001b[0;32m--> <a href='file:///~/.local/lib/python3.9/site-packages/bleak/backends/bluezdbus/client.py?line=786'>787</a>\u001b[0m     reply \u001b[39m=\u001b[39m \u001b[39mawait\u001b[39;00m \u001b[39mself\u001b[39m\u001b[39m.\u001b[39m_bus\u001b[39m.\u001b[39mcall(\n\u001b[1;32m    <a href='file:///~/.local/lib/python3.9/site-packages/bleak/backends/bluezdbus/client.py?line=787'>788</a>\u001b[0m         Message(\n\u001b[1;32m    <a href='file:///~/.local/lib/python3.9/site-packages/bleak/backends/bluezdbus/client.py?line=788'>789</a>\u001b[0m             destination\u001b[39m=\u001b[39mdefs\u001b[39m.\u001b[39mBLUEZ_SERVICE,\n\u001b[1;32m    <a href='file:///~/.local/lib/python3.9/site-packages/bleak/backends/bluezdbus/client.py?line=789'>790</a>\u001b[0m             path\u001b[39m=\u001b[39mcharacteristic\u001b[39m.\u001b[39mpath,\n\u001b[1;32m    <a href='file:///~/.local/lib/python3.9/site-packages/bleak/backends/bluezdbus/client.py?line=790'>791</a>\u001b[0m             interface\u001b[39m=\u001b[39mdefs\u001b[39m.\u001b[39mGATT_CHARACTERISTIC_INTERFACE,\n\u001b[1;32m    <a href='file:///~/.local/lib/python3.9/site-packages/bleak/backends/bluezdbus/client.py?line=791'>792</a>\u001b[0m             member\u001b[39m=\u001b[39m\u001b[39m\"\u001b[39m\u001b[39mWriteValue\u001b[39m\u001b[39m\"\u001b[39m,\n\u001b[1;32m    <a href='file:///~/.local/lib/python3.9/site-packages/bleak/backends/bluezdbus/client.py?line=792'>793</a>\u001b[0m             signature\u001b[39m=\u001b[39m\u001b[39m\"\u001b[39m\u001b[39maya\u001b[39m\u001b[39m{sv}\u001b[39;00m\u001b[39m\"\u001b[39m,\n\u001b[1;32m    <a href='file:///~/.local/lib/python3.9/site-packages/bleak/backends/bluezdbus/client.py?line=793'>794</a>\u001b[0m             body\u001b[39m=\u001b[39m[\n\u001b[1;32m    <a href='file:///~/.local/lib/python3.9/site-packages/bleak/backends/bluezdbus/client.py?line=794'>795</a>\u001b[0m                 \u001b[39mbytes\u001b[39m(data),\n\u001b[1;32m    <a href='file:///~/.local/lib/python3.9/site-packages/bleak/backends/bluezdbus/client.py?line=795'>796</a>\u001b[0m                 {\u001b[39m\"\u001b[39m\u001b[39mtype\u001b[39m\u001b[39m\"\u001b[39m: Variant(\u001b[39m\"\u001b[39m\u001b[39ms\u001b[39m\u001b[39m\"\u001b[39m, \u001b[39m\"\u001b[39m\u001b[39mrequest\u001b[39m\u001b[39m\"\u001b[39m \u001b[39mif\u001b[39;00m response \u001b[39melse\u001b[39;00m \u001b[39m\"\u001b[39m\u001b[39mcommand\u001b[39m\u001b[39m\"\u001b[39m)},\n\u001b[1;32m    <a href='file:///~/.local/lib/python3.9/site-packages/bleak/backends/bluezdbus/client.py?line=796'>797</a>\u001b[0m             ],\n\u001b[1;32m    <a href='file:///~/.local/lib/python3.9/site-packages/bleak/backends/bluezdbus/client.py?line=797'>798</a>\u001b[0m         )\n\u001b[1;32m    <a href='file:///~/.local/lib/python3.9/site-packages/bleak/backends/bluezdbus/client.py?line=798'>799</a>\u001b[0m     )\n\u001b[1;32m    <a href='file:///~/.local/lib/python3.9/site-packages/bleak/backends/bluezdbus/client.py?line=799'>800</a>\u001b[0m     assert_reply(reply)\n\u001b[1;32m    <a href='file:///~/.local/lib/python3.9/site-packages/bleak/backends/bluezdbus/client.py?line=800'>801</a>\u001b[0m \u001b[39melse\u001b[39;00m:\n\u001b[1;32m    <a href='file:///~/.local/lib/python3.9/site-packages/bleak/backends/bluezdbus/client.py?line=801'>802</a>\u001b[0m     \u001b[39m# Older versions of BlueZ don't have the \"type\" option, so we have\u001b[39;00m\n\u001b[1;32m    <a href='file:///~/.local/lib/python3.9/site-packages/bleak/backends/bluezdbus/client.py?line=802'>803</a>\u001b[0m     \u001b[39m# to write the hard way. This isn't the most efficient way of doing\u001b[39;00m\n\u001b[1;32m    <a href='file:///~/.local/lib/python3.9/site-packages/bleak/backends/bluezdbus/client.py?line=803'>804</a>\u001b[0m     \u001b[39m# things, but it works.\u001b[39;00m\n",
      "File \u001b[0;32m~/.local/lib/python3.9/site-packages/dbus_next/aio/message_bus.py:305\u001b[0m, in \u001b[0;36mMessageBus.call\u001b[0;34m(self, msg)\u001b[0m\n\u001b[1;32m    <a href='file:///~/.local/lib/python3.9/site-packages/dbus_next/aio/message_bus.py?line=300'>301</a>\u001b[0m             _future_set_result(future, reply)\n\u001b[1;32m    <a href='file:///~/.local/lib/python3.9/site-packages/dbus_next/aio/message_bus.py?line=302'>303</a>\u001b[0m \u001b[39mself\u001b[39m\u001b[39m.\u001b[39m_call(msg, reply_handler)\n\u001b[0;32m--> <a href='file:///~/.local/lib/python3.9/site-packages/dbus_next/aio/message_bus.py?line=304'>305</a>\u001b[0m \u001b[39mawait\u001b[39;00m future\n\u001b[1;32m    <a href='file:///~/.local/lib/python3.9/site-packages/dbus_next/aio/message_bus.py?line=306'>307</a>\u001b[0m \u001b[39mreturn\u001b[39;00m future\u001b[39m.\u001b[39mresult()\n",
      "\u001b[0;31mCancelledError\u001b[0m: "
     ]
    },
    {
     "name": "stdout",
     "output_type": "stream",
     "text": [
      "received: bytearray(b'$18 ERR:[];')\n",
      "received: bytearray(b'$18 ERR:[];')\n",
      "received: bytearray(b'$18 ERR:[];')\n",
      "received: bytearray(b'$18 ERR:[];')\n",
      "received: bytearray(b'$18 ERR:[];')\n",
      "received: bytearray(b'$18 ERR:[];')\n",
      "received: bytearray(b'$18 ERR:[];')\n",
      "received: bytearray(b'$18 ERR:[];')\n",
      "received: bytearray(b'$18 ERR:[];')\n"
     ]
    }
   ],
   "source": [
    "for i in range(512):    #tested write 512 times ,need asyncio.wait for frequency write\n",
    "    await a.save_current_picture(\"FS\",\"%d\"%(i))"
   ]
  },
  {
   "cell_type": "code",
   "execution_count": 74,
   "metadata": {},
   "outputs": [
    {
     "name": "stdout",
     "output_type": "stream",
     "text": [
      "received: bytearray(b'$18 ERR:[];')\n"
     ]
    }
   ],
   "source": [
    "await a.delete_picture(\"FS\",\"1\")"
   ]
  },
  {
   "cell_type": "code",
   "execution_count": 64,
   "metadata": {},
   "outputs": [
    {
     "name": "stdout",
     "output_type": "stream",
     "text": [
      "received: bytearray(b'$18 FL:[];')\n",
      "received: bytearray(b'$18 FL:[];')\n",
      "bytearray(b'$18 FL:[];')\n"
     ]
    }
   ],
   "source": [
    "flielist=None\n",
    "flielist=await a.request_fs_files(flielist)\n",
    "print(flielist)"
   ]
  },
  {
   "cell_type": "code",
   "execution_count": 60,
   "metadata": {},
   "outputs": [
    {
     "name": "stdout",
     "output_type": "stream",
     "text": [
      "received: bytearray(b'$18 FL:[2,3];')\n"
     ]
    }
   ],
   "source": [
    "await a.request_fs_files()"
   ]
  },
  {
   "cell_type": "code",
   "execution_count": 17,
   "metadata": {},
   "outputs": [
    {
     "name": "stdout",
     "output_type": "stream",
     "text": [
      "received: bytearray(b'$18 ERR : [WiFiPanel v.1.15.2022.0218] ; ')\n"
     ]
    }
   ],
   "source": [
    "await a.firmware_ver()"
   ]
  },
  {
   "cell_type": "code",
   "execution_count": 69,
   "metadata": {},
   "outputs": [
    {
     "name": "stdout",
     "output_type": "stream",
     "text": [
      "received: bytearray(b'$18 ERR:[];')\n"
     ]
    }
   ],
   "source": [
    "await a.save_current_picture(\"FS\",\"3\")\n",
    "#20220310114120-IMG_20220310_114139"
   ]
  },
  {
   "cell_type": "code",
   "execution_count": 95,
   "metadata": {},
   "outputs": [
    {
     "name": "stdout",
     "output_type": "stream",
     "text": [
      "received: bytearray(b'$18 ERR:[];')\n"
     ]
    }
   ],
   "source": [
    "await a.display_fs_picture(\"FS\",\"3\")"
   ]
  },
  {
   "cell_type": "code",
   "execution_count": 62,
   "metadata": {},
   "outputs": [
    {
     "name": "stdout",
     "output_type": "stream",
     "text": [
      "received: bytearray(b'$18 ERR:[];')\n",
      "received: bytearray(b'$18 IR:0~4F4F00 98785F CD8581 F48196 446000 004900 001C00 000000 000000 000000 3F0000 5D001F 70003D 7B004F 730047 440000;')\n",
      "received: bytearray(b'$18 IR:1~6A854C ADA779 CCA487 9F8C62 5B711F 004F00 002900 000000 000000 1D0000 4C0000 6C002D 8A004C A00069 A8006D 860053;')\n",
      "received: bytearray(b'$18 IR:2~73B66D A4C180 AEAA79 8C8753 526600 004900 001C00 000000 000000 000000 3F0000 64001F 86004C AA0073 C6298A B8007C;')\n",
      "received: bytearray(b'$18 IR:3~6EDF8E 86975C 878753 6A6A1F 3F4C00 003100 000000 000000 000000 000000 330000 480000 680036 860056 9A0064 E34199;')\n",
      "received: bytearray(b'$18 IR:4~3F2900 62551F 604F1F 483D00 001C00 000000 000000 000000 000000 000000 000000 1D0000 3A0000 4F001F 58002D 000000;')\n",
      "received: bytearray(b'$18 IR:5~000000 3A1C00 3A1C00 1D0000 000000 000000 000000 000000 000000 000000 000000 000000 000000 000000 1D0000 000000;')\n",
      "received: bytearray(b'$18 IR:6~000000 000000 000000 000000 000000 000000 000000 000000 000000 000000 000000 000000 000000 000000 000000 000000;')\n",
      "received: bytearray(b'$18 IR:7~000000 000000 000000 000000 000000 000000 000000 000000 000000 000000 000000 000000 000000 000000 000000 000000;')\n",
      "received: bytearray(b'$18 IR:8~000000 000000 000000 000000 000000 000000 000000 000000 000000 000000 000000 000000 000000 000000 000000 000000;')\n",
      "received: bytearray(b'$18 IR:9~000000 000000 000000 000000 000000 000000 000000 000000 000000 000000 000000 000000 000000 000000 000000 000000;')\n",
      "received: bytearray(b'$18 IR:10~000000 1D0000 000000 000000 000000 000000 000000 000000 000000 000000 000000 000000 330000 3F0000 441C00 000000;')\n",
      "received: bytearray(b'$18 IR:11~000000 581C00 4F1C00 3A0000 1D0000 000000 000000 000000 000000 000000 000000 001C00 4F3D00 624C2D 665236 3F1C00;')\n",
      "received: bytearray(b'$18 IR:12~E09247 9A5A00 864500 681C00 4F0000 330000 000000 000000 000000 000000 003100 3F4C00 6A663D 888464 889379 6EC9BE;')\n",
      "received: bytearray(b'$18 IR:13~B77100 C6782D AC5E00 863800 680000 4C0000 1D0000 000000 000000 002900 004900 526600 8C8656 AFA886 A4BEA1 73A996;')\n",
      "received: bytearray(b'$18 IR:14~864900 AA6000 A24F00 8B3800 710000 520000 2B0000 000000 000000 002900 005200 5B712D 9F8B5F CDA183 ADA587 6A806B;')\n",
      "received: bytearray(b'$18 IR:15~440000 763100 7F2900 751C00 620000 4C0000 1D0000 000000 000000 002900 004900 446200 FE8070 D2816B 9B755C 4C4900;')\n"
     ]
    }
   ],
   "source": [
    "await a.getfile(\"FS\",\"2\")"
   ]
  },
  {
   "cell_type": "code",
   "execution_count": 37,
   "metadata": {},
   "outputs": [
    {
     "name": "stdout",
     "output_type": "stream",
     "text": [
      "received: bytearray(b\"$18 ERR:[Error filename already exists\\'/16p16/test.p\\'];\")\n"
     ]
    }
   ],
   "source": [
    "await a.filerename(\"FS\",\"1\",\"test\")"
   ]
  },
  {
   "cell_type": "code",
   "execution_count": 12,
   "metadata": {},
   "outputs": [],
   "source": [
    "await a.disconnect()"
   ]
  },
  {
   "cell_type": "code",
   "execution_count": 52,
   "metadata": {},
   "outputs": [],
   "source": [
    "await a.set_brightness(10)"
   ]
  },
  {
   "cell_type": "code",
   "execution_count": 56,
   "metadata": {},
   "outputs": [
    {
     "name": "stdout",
     "output_type": "stream",
     "text": [
      "bytearray(b'$5 0 ff0a0f;')\n",
      "bytearray(b'$5 3 0 1;')\n"
     ]
    }
   ],
   "source": [
    "await a.draw_point(0xff,0x0a,0x0F,0,1)"
   ]
  },
  {
   "cell_type": "code",
   "execution_count": 15,
   "metadata": {},
   "outputs": [],
   "source": [
    "await a.clear()"
   ]
  },
  {
   "cell_type": "code",
   "execution_count": 37,
   "metadata": {},
   "outputs": [
    {
     "name": "stdout",
     "output_type": "stream",
     "text": [
      "bytearray(b'$5 0 afaa0f;')\n",
      "received: bytearray(b'$18 ERR:[];')\n",
      "received: bytearray(b'$18 ERR:[];')\n",
      "received: bytearray(b'$18 ERR:[];')\n",
      "received: bytearray(b'$18 ERR:[];')\n",
      "received: bytearray(b'$18 ERR:[];')\n",
      "received: bytearray(b'$18 ERR:[];')\n",
      "received: bytearray(b'$18 ERR:[];')\n",
      "received: bytearray(b'$18 ERR:[];')\n",
      "received: bytearray(b'$18 ERR:[];')\n"
     ]
    }
   ],
   "source": [
    "await a.fill_color(0xaf,0xaa,0x0F)"
   ]
  },
  {
   "cell_type": "code",
   "execution_count": 5,
   "metadata": {},
   "outputs": [
    {
     "name": "stdout",
     "output_type": "stream",
     "text": [
      "received: bytearray(b'$18 ERR:[];')\n",
      "received: bytearray(b'$18 IR:0~00299B 003D9C 00529E 005EA1 0068A4 006DA7 0072AB 0077AE 007DB1 007CAF 0074AB 0068A7 005EA2 00559E 00559C 00579C;')\n",
      "received: bytearray(b'$18 IR:1~00299C 003D9C 0052A0 005EA2 0068A5 006DA9 0077AF 007FB4 0081B5 0082B5 0079B1 006DAA 005EA4 00529F 004F9C 00529C;')\n",
      "received: bytearray(b'$18 IR:2~00319C 00419E 0052A1 0060A4 006DAB 0075B1 007FB6 0088BB 008BBC 0091C0 0085B9 0072AF 005EA7 004FA1 004C9E 004C9C;')\n",
      "received: bytearray(b'$18 IR:3~003D9C 00459F 0052A1 0062A6 0085BA 008ABE 0086BD 0096C6 0099C7 009EC9 008EC0 0079B5 0062AC 0052A3 00499F 00499C;')\n",
      "received: bytearray(b'$18 IR:4~00459C 0052A3 006AAE 0072B1 0088BE 008DC2 0091C6 00A7D2 00ACD4 00A2CE 0098C7 0082BC 0068B1 0055A7 0049A0 00459C;')\n",
      "received: bytearray(b'$18 IR:5~0052A1 0077B4 008EC1 0075B4 007DB9 0085C0 0090C8 00B5DC 00B8DD 00B8DC 00A4D0 008CC3 0072B7 005EAD 004CA3 00499E;')\n",
      "received: bytearray(b'$18 IR:6~0062A5 0088BB 0084BA 0084BB 007DBB 0091C9 0097CF 00A7D8 00BBE1 00C0E2 00AFD8 0095CA 0079BC 0062AF 004FA4 004CA0;')\n",
      "received: bytearray(b'$18 IR:7~0066A5 007BB2 0082B8 0082BB 009BCC 0093CC 00A1D6 00ABDD 00BBE4 00C3E5 00BBE0 00A0D0 0082C1 006DB4 0057A7 0052A1;')\n",
      "received: bytearray(b'$18 IR:8~007FB2 006CA8 0072AF 007CB8 008EC6 008BCA 00A1D9 00C5EA 00C7EB 00C8E9 00C3E4 00AFD8 0097CA 0077B8 0060A9 0057A2;')\n",
      "received: bytearray(b'$18 IR:9~0068A2 006DA8 0075B0 007BB8 0088C4 009FD4 00A6DD 00C1EA 00D1F0 00D5F0 00C7E7 00BDE0 00A8D3 0096C7 0071B0 0064A6;')\n",
      "received: bytearray(b'$18 IR:10~0068A1 0072AA 0077B1 0075B5 0090C8 00A2D7 0098D9 00BBE9 00C9EE 00CBED 00D2EC 00C9E5 00AED5 0092C4 0079B3 006FA9;')\n",
      "received: bytearray(b'$18 IR:11~006AA2 006FA8 0072AE 0075B4 0085C3 009AD3 009CDA 00ACE4 00B8E9 00C1EA 00CEEB 00BFE0 00A2CF 0087BD 0080B5 0072AB;')\n",
      "received: bytearray(b'$18 IR:12~006CA3 0071A9 006FAC 0078B6 0081C0 008ECE 009EDA 00A6E2 00B5E7 00C0E9 00C0E4 00B9DE 00A1CE 0089BD 008BBA 0079AE;')\n",
      "received: bytearray(b'$18 IR:13~006AA2 006DA7 0072AC 007DB8 0086C3 008BCB 0095D7 00A2DF 00AAE1 00ACE0 00B1DE 00AED8 008EC3 007CB5 0072AC 0071A7;')\n",
      "received: bytearray(b'$18 IR:14~006AA1 006CA5 0072AC 007FB8 0086C2 008ACA 0092D4 009EDC 00A5DE 00A5DC 00A6D9 009ACE 0088BF 007CB4 0072AA 006CA4;')\n",
      "received: bytearray(b'$18 IR:15~0068A0 006DA5 0075AD 007DB7 0084C0 0088C8 0090D1 0098D9 00A2DC 00A3DB 009BD3 0091CA 0086BE 007BB3 0072AA 006CA4;')\n"
     ]
    }
   ],
   "source": [
    "await a.ledimage()"
   ]
  },
  {
   "cell_type": "code",
   "execution_count": 7,
   "metadata": {},
   "outputs": [],
   "source": [
    "await a.ssidd(\"LONGAN-IOT\")\n",
    "#await a.ssidd(\"Elite_1006\")\n",
    "#await a.ssidd(\"iPhone\")\n",
    "#await a.ssidd(\"Mi\")"
   ]
  },
  {
   "cell_type": "code",
   "execution_count": 8,
   "metadata": {},
   "outputs": [],
   "source": [
    "#await a.wifipassword(\"87654321\")\n",
    "#await a.wifipassword(\"20130530\")\n",
    "await a.wifipassword(\"testtest\")"
   ]
  },
  {
   "cell_type": "code",
   "execution_count": 10,
   "metadata": {},
   "outputs": [],
   "source": [
    "await a.wificlient()"
   ]
  },
  {
   "cell_type": "code",
   "execution_count": 9,
   "metadata": {},
   "outputs": [],
   "source": [
    "await a.apon()"
   ]
  }
 ],
 "metadata": {
  "interpreter": {
   "hash": "1fd0323e151613ff722c31a02365fa88751e21a60a89225a54a38f3a85c0d3d1"
  },
  "kernelspec": {
   "display_name": "Python 3.8.11 64-bit ('base': conda)",
   "language": "python",
   "name": "python3"
  },
  "language_info": {
   "codemirror_mode": {
    "name": "ipython",
    "version": 3
   },
   "file_extension": ".py",
   "mimetype": "text/x-python",
   "name": "python",
   "nbconvert_exporter": "python",
   "pygments_lexer": "ipython3",
   "version": "3.9.7"
  },
  "orig_nbformat": 4
 },
 "nbformat": 4,
 "nbformat_minor": 2
}
