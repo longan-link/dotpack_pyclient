{
 "cells": [
  {
   "cell_type": "code",
   "execution_count": null,
   "metadata": {},
   "outputs": [],
   "source": [
    "from dotpack.ledpanel import DotPackClient\n",
    "#address = \"34:94:54:b9:33:fe\"\n",
    "#address = \"34:94:54:b9:39:f6\"\n",
    "#address = \"34:94:54:bb:f7:fa\"\n",
    "address = '0C:8B:95:49:9E:E6'\n",
    "#address = 'ABE21030-5717-420D-BCC5-72467D554EC7'\n",
    "#address = '1D857D6C-94EC-8113-43FB-B02B64BE6820'\n",
    "pack = DotPackClient(address)"
   ]
  },
  {
   "cell_type": "code",
   "execution_count": null,
   "metadata": {},
   "outputs": [],
   "source": [
    "await pack.connect()\n",
    "#连接设备"
   ]
  },
  {
   "cell_type": "code",
   "execution_count": null,
   "metadata": {},
   "outputs": [],
   "source": [
    "await pack.disconnect()\n",
    "#断开连接"
   ]
  },
  {
   "cell_type": "code",
   "execution_count": null,
   "metadata": {},
   "outputs": [],
   "source": [
    "await pack.set_boot_mode(2,\"8_giftest2\")\n",
    "#1、图片模式 (例：(1,图像文件名))\n",
    "#2、动图模式 (例：(2,动图文件名))\n",
    "#3、指定特效模式 (此设置需要在选定好的特效下发送指令，即可设置当前显示的特效为开机画面 例：(3))\n",
    "#4、随机特效模式 (例：(4))"
   ]
  },
  {
   "cell_type": "code",
   "execution_count": null,
   "metadata": {},
   "outputs": [],
   "source": [
    "await pack.recovery_mode()\n",
    "#恢复断电前的模式(特效、GIF、图片)"
   ]
  },
  {
   "cell_type": "code",
   "execution_count": null,
   "metadata": {},
   "outputs": [],
   "source": [
    "await pack.flash_size()\n",
    "#剩余的存储空间大小"
   ]
  },
  {
   "cell_type": "code",
   "execution_count": null,
   "metadata": {},
   "outputs": [],
   "source": [
    "await pack.delete_dir(\"16p16\")\n",
    "#删除文件夹及文件夹中的文件"
   ]
  },
  {
   "cell_type": "code",
   "execution_count": null,
   "metadata": {},
   "outputs": [],
   "source": [
    "await pack.dirname(\"16p16GIF\")\n",
    "#遍历文件夹中的文件"
   ]
  },
  {
   "cell_type": "code",
   "execution_count": null,
   "metadata": {},
   "outputs": [],
   "source": [
    "await pack.delete_gif(8,\"8_giftest2\")\n",
    "#删除指定的GIF - (帧数，gifname)"
   ]
  },
  {
   "cell_type": "code",
   "execution_count": null,
   "metadata": {},
   "outputs": [],
   "source": [
    "await pack.file_size(\"16p16\",\"test.p\")\n",
    "#获取指定文件夹中的文件大小 - (文件夹名称，文件名)"
   ]
  },
  {
   "cell_type": "code",
   "execution_count": null,
   "metadata": {},
   "outputs": [],
   "source": [
    "await pack.folder_directory(\"16p16GIF/giftest2\")\n",
    "#遍历指定文件夹中的文件"
   ]
  },
  {
   "cell_type": "code",
   "execution_count": null,
   "metadata": {},
   "outputs": [],
   "source": [
    "await pack.show_gifbuffer_image(10)\n",
    "#显示存在gif缓冲区的图片 - (范围：1-10)"
   ]
  },
  {
   "cell_type": "code",
   "execution_count": null,
   "metadata": {},
   "outputs": [],
   "source": [
    "await pack.renameGIF(\"3|giftest2\",\"3|3_giftest2\")\n",
    "#修改文件夹名称 - (旧文件夹名称，新文件夹名称)  *用于修改GIF名称"
   ]
  },
  {
   "cell_type": "code",
   "execution_count": null,
   "metadata": {},
   "outputs": [],
   "source": [
    "await pack.get_gif_quantity(44,\"44_giftest2\")\n",
    "#校对帧数是否与储存进FLASH的帧数一致，如果不一致将删除整个GIF文件 - (帧数，文件名)"
   ]
  },
  {
   "cell_type": "code",
   "execution_count": null,
   "metadata": {},
   "outputs": [],
   "source": [
    "await pack.save_gif(\"giftest_1\")\n",
    "#保存独帧的GIF文件 - (文件名)"
   ]
  },
  {
   "cell_type": "code",
   "execution_count": null,
   "metadata": {},
   "outputs": [],
   "source": [
    "await pack.display_gif(1,60,\"60_giftest1\")\n",
    "#显示GIF文件(循环) - (速度，帧数，文件名)"
   ]
  },
  {
   "cell_type": "code",
   "execution_count": null,
   "metadata": {},
   "outputs": [],
   "source": [
    "await pack.display_sys_animation(3)\n",
    "#显示通过编程写进的动图 - (范围：1-10)"
   ]
  },
  {
   "cell_type": "code",
   "execution_count": null,
   "metadata": {},
   "outputs": [],
   "source": [
    "await pack.function_icon(3)\n",
    "#显示相对应的系统图标 - (范围：0-18)"
   ]
  },
  {
   "cell_type": "code",
   "execution_count": null,
   "metadata": {},
   "outputs": [],
   "source": [
    "await pack.upload_and_show_image()\n",
    "#将隐式获取到的图片显示到LED板上"
   ]
  },
  {
   "cell_type": "code",
   "execution_count": null,
   "metadata": {},
   "outputs": [],
   "source": [
    "#全自动（一键清空文件夹、转换GIF、发送每一帧图像、校对帧数、播放GIF） 只需要填写要发送的系统中的 GIF文件名 和将要保存到板子上的 文件名\n",
    "\n",
    "from PIL import Image\n",
    "import shutil\n",
    "import asyncio\n",
    "import os\n",
    "quantity_ok = False\n",
    "\n",
    "\n",
    "############################\n",
    "                           #\n",
    "gifpath = \"C:/Users/CWEIB/Desktop/ledPanelPythonClient/gifs32/\"               #  系统上存放GIF的文件夹 \n",
    "                           #\n",
    "gifcache_path = \"C:/Users/CWEIB/Desktop/ledPanelPythonClient/GIF-PIC/\"         #  设置一个在系统上存放GIF缓存的文件夹\n",
    "                           #\n",
    "gifname = \"giftest2\"       #  将要保存到板子上的文件名\n",
    "                           #\n",
    "giffilename= \"runningedgehog\"          #  系统上的GIF文件名\n",
    "                           #\n",
    "############################\n",
    "\n",
    "\n",
    "file = gifpath + giffilename +\".gif\"\n",
    "file2 = gifcache_path\n",
    "\n",
    "if os.path.exists(file2):\n",
    "    shutil.rmtree(file2)\n",
    "\n",
    "if not os.path.exists(file2):\n",
    "    os.mkdir(file2)\n",
    "\n",
    "im = Image.open(file)\n",
    "try:\n",
    "    while True:\n",
    "        current = im.tell()\n",
    "        img = im.convert('RGB')\n",
    "        img.save(file2 +str(00000 + current)+'.png')\n",
    "        im.seek(current + 1)\n",
    "except:\n",
    "    pass\n",
    "\n",
    "\n",
    "print(len(os.listdir(file2)))\n",
    "\n",
    "p = len(os.listdir(file2))\n",
    "\n",
    "for y in range(p):\n",
    "    file = gifcache_path + str(y)+\".png\"  #GIF-PIC\n",
    "    img = Image.open(file)\n",
    "    import sys\n",
    "    if img is None:\n",
    "        sys.exit(\"Could not read the image.\")\n",
    "\n",
    "    for i in range (1): #tested 255 times no noticable lag\n",
    "        await pack._upload_image(img)\n",
    "        gifp = str(p) + \"_\" + gifname\n",
    "        picn = str(y)\n",
    "        await pack.save_gif(gifp,picn)\n",
    "\n",
    "s = str(p) + \"_\" + gifname       \n",
    "await pack.get_gif_quantity(p,s)\n",
    "if(pack.rep_data == ['Proofreading success']):\n",
    "    await pack.display_gif(1,p,s)"
   ]
  },
  {
   "cell_type": "code",
   "execution_count": null,
   "metadata": {},
   "outputs": [],
   "source": [
    "await pack.set_speed(1)\n",
    "#设置游戏速度"
   ]
  },
  {
   "cell_type": "code",
   "execution_count": null,
   "metadata": {},
   "outputs": [],
   "source": [
    "await pack.game_mode(4)\n",
    "#选择游戏 - (1:迷宫，2：贪吃蛇，3：俄罗斯方块，4：打砖块)\n",
    "#游戏操作 - (10：向上移动，11:向右移动，12：向下移动，13：向左移动，14：OK键)"
   ]
  },
  {
   "cell_type": "code",
   "execution_count": null,
   "metadata": {},
   "outputs": [],
   "source": [
    "await pack.move_to_the_left()\n",
    "#向左移动"
   ]
  },
  {
   "cell_type": "code",
   "execution_count": null,
   "metadata": {},
   "outputs": [],
   "source": [
    "await pack.continue_game()\n",
    "#开始/继续游戏"
   ]
  },
  {
   "cell_type": "code",
   "execution_count": null,
   "metadata": {},
   "outputs": [],
   "source": [
    "await pack.game_paused()\n",
    "#游戏暂停"
   ]
  },
  {
   "cell_type": "markdown",
   "metadata": {},
   "source": [
    "######################文本设置命令#######################"
   ]
  },
  {
   "cell_type": "code",
   "execution_count": null,
   "metadata": {},
   "outputs": [],
   "source": [
    "await pack.run_text_on_effects(\"TEST!\")\n",
    "#悬浮在特效上的文本"
   ]
  },
  {
   "cell_type": "code",
   "execution_count": null,
   "metadata": {},
   "outputs": [],
   "source": [
    "await pack.scroll_text(\"TEST!\")\n",
    "#播放循环文本"
   ]
  },
  {
   "cell_type": "code",
   "execution_count": null,
   "metadata": {},
   "outputs": [],
   "source": [
    "await pack.textcolormode(0)\n",
    "#设置文本颜色模式  模式：0 white font    1 gradient font    2 multicolor font"
   ]
  },
  {
   "cell_type": "code",
   "execution_count": null,
   "metadata": {},
   "outputs": [],
   "source": [
    "await pack.text_color(\"00FF00\")\n",
    "#设置文本颜色 范围:000000-FFFFFF"
   ]
  },
  {
   "cell_type": "code",
   "execution_count": null,
   "metadata": {},
   "outputs": [],
   "source": [
    "await pack.crawl_speed(40)\n",
    "#设置文本爬行速度 范围：0-255"
   ]
  },
  {
   "cell_type": "code",
   "execution_count": null,
   "metadata": {},
   "outputs": [],
   "source": [
    "await pack.play_text_once(\"TEST!\")\n",
    "#不循环文本"
   ]
  },
  {
   "cell_type": "markdown",
   "metadata": {},
   "source": [
    "##########################################################"
   ]
  },
  {
   "cell_type": "code",
   "execution_count": null,
   "metadata": {},
   "outputs": [],
   "source": [
    "await pack.set_effect_change_mode(\"nextMode\")\n",
    "#选择模式(nextMode:下一个特效、prevMode:上一个特效)"
   ]
  },
  {
   "cell_type": "code",
   "execution_count": null,
   "metadata": {},
   "outputs": [],
   "source": [
    "await pack.set_brightness(30)\n",
    "#设置背光亮度 范围：0-255"
   ]
  },
  {
   "cell_type": "code",
   "execution_count": null,
   "metadata": {},
   "outputs": [],
   "source": [
    "await pack.display_images(\"1\")\n",
    "#将图片上传到LED灯板上"
   ]
  },
  {
   "cell_type": "code",
   "execution_count": null,
   "metadata": {},
   "outputs": [],
   "source": [
    "await pack.clear_eeprom()\n",
    "#清除EEPROM的数据（包括恢复的数据）"
   ]
  },
  {
   "cell_type": "code",
   "execution_count": null,
   "metadata": {},
   "outputs": [],
   "source": [
    "await pack.delete_all_images()\n",
    "#删除所有保存在flash中的图片"
   ]
  },
  {
   "cell_type": "code",
   "execution_count": null,
   "metadata": {},
   "outputs": [],
   "source": [
    "await pack.firmware_ver()\n",
    "#获取本版信息"
   ]
  },
  {
   "cell_type": "code",
   "execution_count": null,
   "metadata": {},
   "outputs": [],
   "source": [
    "await pack.list_images_names()\n",
    "#获取保存在flash中的图片列表"
   ]
  },
  {
   "cell_type": "code",
   "execution_count": null,
   "metadata": {},
   "outputs": [],
   "source": [
    "await pack.Implicitly_get_image_data(\"20220617115812-IMG_20220617_115812\")\n",
    "#隐式获取图片数据"
   ]
  },
  {
   "cell_type": "code",
   "execution_count": null,
   "metadata": {},
   "outputs": [],
   "source": [
    "await pack.on()"
   ]
  },
  {
   "cell_type": "code",
   "execution_count": null,
   "metadata": {},
   "outputs": [],
   "source": [
    "await pack.off()"
   ]
  },
  {
   "cell_type": "code",
   "execution_count": null,
   "metadata": {},
   "outputs": [],
   "source": [
    "await pack.set_effect_mode(\"swirl\")"
   ]
  },
  {
   "cell_type": "code",
   "execution_count": null,
   "metadata": {},
   "outputs": [],
   "source": [
    "await pack.set_effect_mode(\"swirl\")"
   ]
  },
  {
   "cell_type": "code",
   "execution_count": null,
   "metadata": {},
   "outputs": [],
   "source": [
    "await pack.set_effect_mode(\"fire2\")"
   ]
  },
  {
   "cell_type": "code",
   "execution_count": null,
   "metadata": {},
   "outputs": [],
   "source": [
    "await pack.set_effect_mode(\"black\")"
   ]
  },
  {
   "cell_type": "code",
   "execution_count": null,
   "metadata": {},
   "outputs": [],
   "source": [
    "await pack.set_effect_mode(\"white\")"
   ]
  },
  {
   "cell_type": "code",
   "execution_count": null,
   "metadata": {},
   "outputs": [],
   "source": [
    "await pack.set_effect_mode(\"color\")\n",
    "#no effect currently"
   ]
  },
  {
   "cell_type": "code",
   "execution_count": null,
   "metadata": {},
   "outputs": [],
   "source": [
    "await pack.set_effect_mode(\"fire\")"
   ]
  },
  {
   "cell_type": "code",
   "execution_count": null,
   "metadata": {},
   "outputs": [],
   "source": [
    "await pack.set_effect_mode(\"confetti\")"
   ]
  },
  {
   "cell_type": "code",
   "execution_count": null,
   "metadata": {},
   "outputs": [],
   "source": [
    "await pack.set_effect_mode(\"rainbow\")\n",
    "###########################"
   ]
  },
  {
   "cell_type": "code",
   "execution_count": null,
   "metadata": {},
   "outputs": [],
   "source": [
    "await pack.set_effect_mode(\"matrix\")"
   ]
  },
  {
   "cell_type": "code",
   "execution_count": null,
   "metadata": {},
   "outputs": [],
   "source": [
    "await pack.set_effect_mode(\"fireflies\")"
   ]
  },
  {
   "cell_type": "code",
   "execution_count": null,
   "metadata": {},
   "outputs": [],
   "source": [
    "await pack.set_effect_mode(\"arrows\")\n",
    "#no effect currently"
   ]
  },
  {
   "cell_type": "code",
   "execution_count": null,
   "metadata": {},
   "outputs": [],
   "source": [
    "await pack.set_effect_mode(\"noise_ocean\")"
   ]
  },
  {
   "cell_type": "code",
   "execution_count": null,
   "metadata": {},
   "outputs": [],
   "source": [
    "await pack.set_effect_mode(\"snow\")\n",
    "#no effect currently"
   ]
  },
  {
   "cell_type": "code",
   "execution_count": null,
   "metadata": {},
   "outputs": [],
   "source": [
    "await pack.set_effect_mode(\"ball\")"
   ]
  },
  {
   "cell_type": "code",
   "execution_count": null,
   "metadata": {},
   "outputs": [],
   "source": [
    "await pack.set_effect_mode(\"balls\")"
   ]
  },
  {
   "cell_type": "code",
   "execution_count": null,
   "metadata": {},
   "outputs": [],
   "source": [
    "await pack.set_effect_mode(\"starfall\")"
   ]
  },
  {
   "cell_type": "code",
   "execution_count": null,
   "metadata": {},
   "outputs": [],
   "source": [
    "await pack.set_effect_mode(\"sparkles\")"
   ]
  },
  {
   "cell_type": "code",
   "execution_count": null,
   "metadata": {},
   "outputs": [],
   "source": [
    "await pack.set_effect_mode(\"noise_madness\")"
   ]
  },
  {
   "cell_type": "code",
   "execution_count": null,
   "metadata": {},
   "outputs": [],
   "source": [
    "await pack.set_effect_mode(\"noise_cloud\")"
   ]
  },
  {
   "cell_type": "code",
   "execution_count": null,
   "metadata": {},
   "outputs": [],
   "source": [
    "await pack.set_effect_mode(\"noise_lava\")"
   ]
  },
  {
   "cell_type": "code",
   "execution_count": null,
   "metadata": {},
   "outputs": [],
   "source": [
    "await pack.set_effect_mode(\"noise_plasma\")"
   ]
  },
  {
   "cell_type": "code",
   "execution_count": null,
   "metadata": {},
   "outputs": [],
   "source": [
    "await pack.set_effect_mode(\"noise_rainbow\")"
   ]
  },
  {
   "cell_type": "code",
   "execution_count": null,
   "metadata": {},
   "outputs": [],
   "source": [
    "await pack.set_effect_mode(\"noise_rrainbow_strip\")"
   ]
  },
  {
   "cell_type": "code",
   "execution_count": null,
   "metadata": {},
   "outputs": [],
   "source": [
    "await pack.set_effect_mode(\"noise_zebra\")"
   ]
  },
  {
   "cell_type": "code",
   "execution_count": null,
   "metadata": {},
   "outputs": [],
   "source": [
    "await pack.set_effect_mode(\"colors\")\n",
    "##########################"
   ]
  },
  {
   "cell_type": "code",
   "execution_count": null,
   "metadata": {},
   "outputs": [],
   "source": [
    "await pack.set_effect_mode(\"swirl\")"
   ]
  },
  {
   "cell_type": "code",
   "execution_count": null,
   "metadata": {},
   "outputs": [],
   "source": [
    "await pack.set_effect_mode(\"cyclon\")"
   ]
  },
  {
   "cell_type": "code",
   "execution_count": null,
   "metadata": {},
   "outputs": [],
   "source": [
    "await pack.set_effect_mode(\"flicker\")"
   ]
  },
  {
   "cell_type": "code",
   "execution_count": null,
   "metadata": {},
   "outputs": [],
   "source": [
    "await pack.set_effect_mode(\"pacifica\")"
   ]
  },
  {
   "cell_type": "code",
   "execution_count": null,
   "metadata": {},
   "outputs": [],
   "source": [
    "await pack.set_effect_mode(\"shadows\")"
   ]
  },
  {
   "cell_type": "code",
   "execution_count": null,
   "metadata": {},
   "outputs": [],
   "source": [
    "await pack.set_effect_mode(\"maze\")"
   ]
  },
  {
   "cell_type": "code",
   "execution_count": null,
   "metadata": {},
   "outputs": [],
   "source": [
    "await pack.set_effect_mode(\"snake\")"
   ]
  },
  {
   "cell_type": "code",
   "execution_count": null,
   "metadata": {},
   "outputs": [],
   "source": [
    "await pack.set_effect_mode(\"tetris\")"
   ]
  },
  {
   "cell_type": "code",
   "execution_count": null,
   "metadata": {},
   "outputs": [],
   "source": [
    "await pack.set_effect_mode(\"arkanoid\")"
   ]
  },
  {
   "cell_type": "code",
   "execution_count": null,
   "metadata": {},
   "outputs": [],
   "source": [
    "await pack.set_effect_mode(\"palette\")"
   ]
  },
  {
   "cell_type": "code",
   "execution_count": null,
   "metadata": {},
   "outputs": [],
   "source": [
    "await pack.set_effect_mode(\"analyzer\")"
   ]
  },
  {
   "cell_type": "code",
   "execution_count": null,
   "metadata": {},
   "outputs": [],
   "source": [
    "await pack.set_effect_mode(\"clock\")"
   ]
  },
  {
   "cell_type": "code",
   "execution_count": null,
   "metadata": {},
   "outputs": [],
   "source": [
    "await pack.set_effect_mode(\"nightclock\")"
   ]
  },
  {
   "cell_type": "code",
   "execution_count": null,
   "metadata": {},
   "outputs": [],
   "source": [
    "await pack.set_effect_mode(\"offclock\")"
   ]
  },
  {
   "cell_type": "code",
   "execution_count": null,
   "metadata": {},
   "outputs": [],
   "source": [
    "await pack.display_image()\n",
    "#显示缓存图像"
   ]
  },
  {
   "cell_type": "code",
   "execution_count": null,
   "metadata": {},
   "outputs": [],
   "source": [
    "await pack.save_current_images(\"test\")\n",
    "#保存图片 - (\"FS\",文件名)"
   ]
  },
  {
   "cell_type": "code",
   "execution_count": null,
   "metadata": {},
   "outputs": [],
   "source": [
    "#将图片转换成颜色编码 上传到板子上\n",
    "from PIL import Image\n",
    "file = \"C:/Users/CWEIB/Desktop/2022_5_23/yellow.jpeg\"\n",
    "img = Image.open(file)\n",
    "import sys\n",
    "if img is None:\n",
    "    sys.exit(\"Could not read the image.\")\n",
    "for i in range (1): #tested 255 times no noticable lag\n",
    "    await pack.upload_and_show_image(img)"
   ]
  },
  {
   "cell_type": "code",
   "execution_count": null,
   "metadata": {},
   "outputs": [],
   "source": [
    "#测试专用\n",
    "for i in range(512):    #tested write 512 times ,need asyncio.wait for frequency write\n",
    "    await pack.save_current_images(\"%d\"%(i))"
   ]
  },
  {
   "cell_type": "code",
   "execution_count": null,
   "metadata": {},
   "outputs": [],
   "source": [
    "await pack.delete_images(\"2\")\n",
    "#删除图片 - (\"FS\",文件名)"
   ]
  },
  {
   "cell_type": "code",
   "execution_count": null,
   "metadata": {},
   "outputs": [],
   "source": [
    "#测试专用 (用于存入128张长名称图片)\n",
    "\n",
    "import asyncio\n",
    "for i in range(100):\n",
    "    if i < 10:\n",
    "        str1 = str(i)\n",
    "        str2 = \"00\"+ str1\n",
    "    if 9 < i < 100:\n",
    "        str1 = str(i)\n",
    "        str2 = \"0\" + str1\n",
    "    if 99 < i < 129:\n",
    "        str2 =str(i)\n",
    "    str3 = \"20220412111519-IMG_20220412_111\" + str2\n",
    "    await pack.save_current_images(str3)\n",
    "    await asyncio.sleep(1)"
   ]
  },
  {
   "cell_type": "code",
   "execution_count": null,
   "metadata": {},
   "outputs": [],
   "source": [
    "await pack.display_images(\"test\")\n",
    "#播放存在板子中的图片 - (\"FS\"，文件名)"
   ]
  },
  {
   "cell_type": "code",
   "execution_count": null,
   "metadata": {},
   "outputs": [],
   "source": [
    "await pack.image_rename(\"20220412111519-发觉都是他和就看和黑胡椒哈哈哈\",\"20220412111519-发觉都是他就看和黑胡椒哈哈哈\")\n",
    "#图片重命名 - (\"FS\"，旧文件名，新文件名)20220412111519-IMG_20220412_111017\n",
    "# 20220412111519-发它觉得唔想做个伴随着你呢吧啦啦操控制器"
   ]
  },
  {
   "cell_type": "code",
   "execution_count": null,
   "metadata": {},
   "outputs": [],
   "source": [
    "await pack.set_brightness(30)\n",
    "#设置LED屏整体亮度"
   ]
  },
  {
   "cell_type": "code",
   "execution_count": null,
   "metadata": {},
   "outputs": [],
   "source": [
    "await pack.draw_point(0xff,0x0a,0x0F,0,1)\n",
    "#绘制像素点 (R,G,B,X,Y)"
   ]
  },
  {
   "cell_type": "code",
   "execution_count": null,
   "metadata": {},
   "outputs": [],
   "source": [
    "await pack.clear()\n",
    "#清屏"
   ]
  },
  {
   "cell_type": "code",
   "execution_count": null,
   "metadata": {},
   "outputs": [],
   "source": [
    "await pack.set_background(0xFF,0xFF,0xFF)\n",
    "#填充整个屏幕 - (R,G,B)"
   ]
  },
  {
   "cell_type": "code",
   "execution_count": null,
   "metadata": {},
   "outputs": [],
   "source": [
    "await pack.led_image_data()\n",
    "#获取LED屏上的像素颜色"
   ]
  },
  {
   "cell_type": "code",
   "execution_count": null,
   "metadata": {},
   "outputs": [],
   "source": [
    "await pack.wifi_ssid(\"XXXX\")\n",
    "#设置ssid名称"
   ]
  },
  {
   "cell_type": "code",
   "execution_count": null,
   "metadata": {},
   "outputs": [],
   "source": [
    "await pack.wifi_password(\"XXXX\")\n",
    "#设置wifi密码"
   ]
  },
  {
   "cell_type": "code",
   "execution_count": null,
   "metadata": {},
   "outputs": [],
   "source": [
    "await pack.wifi_client()\n",
    "#WiFi连接"
   ]
  },
  {
   "cell_type": "code",
   "execution_count": null,
   "metadata": {},
   "outputs": [],
   "source": [
    "await pack.apon()\n",
    "#打开ap功能"
   ]
  }
 ],
 "metadata": {
  "kernelspec": {
   "display_name": "Python 3.9.0 64-bit",
   "language": "python",
   "name": "python3"
  },
  "language_info": {
   "codemirror_mode": {
    "name": "ipython",
    "version": 3
   },
   "file_extension": ".py",
   "mimetype": "text/x-python",
   "name": "python",
   "nbconvert_exporter": "python",
   "pygments_lexer": "ipython3",
   "version": "3.9.0"
  },
  "orig_nbformat": 4,
  "vscode": {
   "interpreter": {
    "hash": "9f750114f9751d1a34162c1cf24c07388c560503727aee20fc4fdb43b6a16b33"
   }
  }
 },
 "nbformat": 4,
 "nbformat_minor": 2
}
