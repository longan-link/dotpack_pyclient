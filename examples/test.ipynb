{
 "cells": [
  {
   "cell_type": "code",
   "execution_count": null,
   "id": "7ef06bab-ccd7-4375-ac8e-47090427e3d0",
   "metadata": {},
   "outputs": [],
   "source": [
    "from dotpack import DotPack\n",
    "addr = \"ABE21030-5717-420D-BCC5-72467D554EC7\"\n",
    "bag = DotPack(addr)\n",
    "bag.connect()"
   ]
  },
  {
   "cell_type": "code",
   "execution_count": null,
   "id": "0c35c5fd-936d-4075-900f-4e26bd189f5b",
   "metadata": {},
   "outputs": [],
   "source": [
    "bag.disconnect()"
   ]
  },
  {
   "cell_type": "code",
   "execution_count": null,
   "id": "df0a81e5-356c-4cc7-84e7-8758efd26548",
   "metadata": {},
   "outputs": [],
   "source": [
    "await bag._ledpanel.client.disconnect()"
   ]
  },
  {
   "cell_type": "code",
   "execution_count": null,
   "id": "c7a19734-e2ba-4383-a840-fd054a20cc25",
   "metadata": {},
   "outputs": [],
   "source": [
    "del bag"
   ]
  },
  {
   "cell_type": "code",
   "execution_count": null,
   "id": "45797c4a-63ac-4574-9c09-1c9b2b24d8f3",
   "metadata": {},
   "outputs": [],
   "source": [
    "bag.display_emoji('🍓')"
   ]
  },
  {
   "cell_type": "code",
   "execution_count": null,
   "id": "fb06cbb3-3a43-4c49-8738-2ca79e5fcee2",
   "metadata": {},
   "outputs": [],
   "source": [
    "bag.clear()"
   ]
  },
  {
   "cell_type": "code",
   "execution_count": null,
   "id": "3e056122-12cc-4e4f-a69d-bed6ab954f77",
   "metadata": {},
   "outputs": [],
   "source": [
    "import random\n",
    "bag.clear()\n",
    "for i in range(16):\n",
    "    for j in range(16):\n",
    "        if i == j:\n",
    "            bag.set_pixel(i, j, 'red')"
   ]
  },
  {
   "cell_type": "code",
   "execution_count": null,
   "id": "377fe6d3-d80f-4ed5-b1c8-552966b52880",
   "metadata": {},
   "outputs": [],
   "source": [
    "# 模拟器\n",
    "bag2 = DotPack()\n",
    "bag2.connect()  #  默认连接 jupyterlab 模拟器，输入书包id可连接到书包: bag.connect(DEVICE_ID)"
   ]
  },
  {
   "cell_type": "code",
   "execution_count": null,
   "id": "89f452f7-40bb-4f55-8f42-a91c9bca7a5c",
   "metadata": {},
   "outputs": [],
   "source": [
    "for i in range(16):\n",
    "    for j in range(16):\n",
    "        if i == j:\n",
    "            bag2.set_pixel(i, j, 'red')"
   ]
  }
 ],
 "metadata": {
  "kernelspec": {
   "display_name": "Python 3 (ipykernel)",
   "language": "python",
   "name": "python3"
  },
  "language_info": {
   "codemirror_mode": {
    "name": "ipython",
    "version": 3
   },
   "file_extension": ".py",
   "mimetype": "text/x-python",
   "name": "python",
   "nbconvert_exporter": "python",
   "pygments_lexer": "ipython3",
   "version": "3.8.2"
  }
 },
 "nbformat": 4,
 "nbformat_minor": 5
}
