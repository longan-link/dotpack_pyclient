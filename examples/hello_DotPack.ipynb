{
 "cells": [
  {
   "cell_type": "markdown",
   "id": "9c8ef8ca-e780-4cb6-a73f-9b3bec11637a",
   "metadata": {
    "tags": []
   },
   "source": [
    "# DotPack \n",
    "使用 Python 驱动 DotPack。\n",
    "\n",
    "使用时，需打开电脑蓝牙。"
   ]
  },
  {
   "cell_type": "markdown",
   "id": "24d9b02d-f962-42c4-b3f3-eeacf5fab634",
   "metadata": {
    "tags": []
   },
   "source": [
    "## 初始化"
   ]
  },
  {
   "cell_type": "code",
   "execution_count": null,
   "id": "0bfbf169-b7ab-4fba-8893-0cf4a728d958",
   "metadata": {},
   "outputs": [],
   "source": [
    "from dotpack import DotPack\n",
    "\n",
    "bag = DotPack()"
   ]
  },
  {
   "cell_type": "markdown",
   "id": "26b1c559-d50a-4cfc-b2f6-41a73debc4e7",
   "metadata": {},
   "source": [
    "## 连接设备"
   ]
  },
  {
   "cell_type": "code",
   "execution_count": null,
   "id": "864f88fa-1343-4698-9854-853fa0487d24",
   "metadata": {},
   "outputs": [],
   "source": [
    "address = 'ABE21030-5717-420D-BCC5-72467D554EC7'\n",
    "# bag.connect()  # 连接 jupyterlab 模拟器\n",
    "bag.connect(address)  # 输入书包 address 可连接到书包"
   ]
  },
  {
   "cell_type": "markdown",
   "id": "20dfe8ff-83ed-4602-9b65-7faaa0fd8ced",
   "metadata": {},
   "source": [
    "## 点亮第一个 led\n",
    "![](https://adapter.codelab.club/img/07609aadfd5b5e04a8b3a78e2fd9c9b6.png)"
   ]
  },
  {
   "cell_type": "code",
   "execution_count": null,
   "id": "bb872f33-135d-4366-a77c-2665b2784638",
   "metadata": {},
   "outputs": [],
   "source": [
    "# 点亮第一个led\n",
    "bag.set_pixel(0, 0, 'red') # bag.set_pixel(0, 0, (255,0,0))"
   ]
  },
  {
   "cell_type": "markdown",
   "id": "267291eb-baf5-4a4b-a6d0-9e686353b82b",
   "metadata": {},
   "source": [
    "## 查询pixel状态"
   ]
  },
  {
   "cell_type": "code",
   "execution_count": null,
   "id": "5f8e9def-35db-46fb-bdee-1284b0860c34",
   "metadata": {},
   "outputs": [],
   "source": [
    "# 查询像素, renturn RGB tuple\n",
    "bag.get_pixel(0, 0)"
   ]
  },
  {
   "cell_type": "markdown",
   "id": "8a16421f-5fcd-4e95-9c54-6f48a88b4512",
   "metadata": {},
   "source": [
    "## 清理画布"
   ]
  },
  {
   "cell_type": "code",
   "execution_count": null,
   "id": "22f731cf-c0bc-496a-877b-0324899614f9",
   "metadata": {},
   "outputs": [],
   "source": [
    "bag.clear()"
   ]
  },
  {
   "cell_type": "markdown",
   "id": "41ba70dd-6778-4874-a9ff-efe3bffffc84",
   "metadata": {},
   "source": [
    "## 显示中文\n",
    "<!--\n",
    "macos: 可能需要下载 simhei 字体， 或者使用 PingFang 字体\n",
    "\n",
    "emoji: Symbola\n",
    "需要自行下载 Symbola 字体\n",
    "    macos 下载的字体(Symbola.otf)放到 ~/Library/Fonts/\n",
    "-->"
   ]
  },
  {
   "cell_type": "markdown",
   "id": "ef513ca4-2fb8-439d-a297-3531cc8e5233",
   "metadata": {},
   "source": [
    "### 中文字符\n",
    "每次显示1个字符"
   ]
  },
  {
   "cell_type": "code",
   "execution_count": null,
   "id": "499fb932-9cc8-4b2c-bf97-3690eb9ae55f",
   "metadata": {},
   "outputs": [],
   "source": [
    "bag.display_char_zh('早', color=\"red\")"
   ]
  },
  {
   "cell_type": "markdown",
   "id": "0d932265-a668-4880-a80d-a7c4160c42ea",
   "metadata": {},
   "source": [
    "## emoji 字符\n",
    "每次显示1个字符\n",
    "\n",
    "<!--内置在Adapter里？-->"
   ]
  },
  {
   "cell_type": "code",
   "execution_count": null,
   "id": "ca2658f9-bccd-4252-be0a-0da5ee73e695",
   "metadata": {},
   "outputs": [],
   "source": [
    "bag.display_emoji('🐳')"
   ]
  },
  {
   "cell_type": "markdown",
   "id": "7d12e8fc-fc89-450b-aeaa-ea6ae3e562d8",
   "metadata": {},
   "source": [
    "## 全屏颜色"
   ]
  },
  {
   "cell_type": "code",
   "execution_count": null,
   "id": "991e2d95-a9ef-4812-8925-e1f74be8a496",
   "metadata": {},
   "outputs": [],
   "source": [
    "color = (255, 0, 0) # red (RGB), 通过调整 RGB 的数值调整亮度\n",
    "bag.set_color(color)"
   ]
  },
  {
   "cell_type": "code",
   "execution_count": null,
   "id": "93319ed2-d415-425b-be14-3684665ebcdb",
   "metadata": {},
   "outputs": [],
   "source": [
    "# 随机变色\n",
    "import time\n",
    "import random\n",
    "for i in range(10):\n",
    "    time.sleep(0.3)\n",
    "    brightness = 100\n",
    "    power = True\n",
    "    color = (random.randint(0,255), random.randint(0,255), random.randint(0,255))\n",
    "    bag.set_color(color)"
   ]
  },
  {
   "cell_type": "markdown",
   "id": "77463bf5-d25a-404b-9c57-097f3e52b93c",
   "metadata": {
    "tags": []
   },
   "source": [
    "## 内置特效\n",
    "- fire\n",
    "- rainbow\n",
    "- snow\n",
    "- matrix\n",
    "- fireflies\n",
    "- arrows\n",
    "- noise_ocean\n",
    "- balls\n",
    "- ..."
   ]
  },
  {
   "cell_type": "code",
   "execution_count": null,
   "id": "38b3a219-fa8c-4569-b84e-8f74773df33f",
   "metadata": {},
   "outputs": [],
   "source": [
    "# matrix\n",
    "bag.set_mode('matrix')"
   ]
  },
  {
   "cell_type": "markdown",
   "id": "820499ef-3410-4c41-95ac-fda0bd5dc40f",
   "metadata": {},
   "source": [
    "## 加载图像\n",
    "使用 PIL(Pillow) 创建自动移图像"
   ]
  },
  {
   "cell_type": "code",
   "execution_count": null,
   "id": "8ffd6795-c96e-4c0b-9255-46a97f79cc6e",
   "metadata": {},
   "outputs": [],
   "source": [
    "from PIL import Image\n",
    "\n",
    "# 加载一个图像\n",
    "im = Image.open('/tmp/下载.png')\n",
    "im = im.resize((16, 16), Image.NEAREST)\n",
    "rgb_im = im.convert('RGB')  # 转化为 RGB 模式\n",
    "bag.show(rgb_im) # 显示在 jupyterlab 或 bag"
   ]
  },
  {
   "cell_type": "markdown",
   "id": "b53af697-2ea3-4c9f-ac0e-d3675c9affb5",
   "metadata": {},
   "source": [
    "# 动画(Animation) API"
   ]
  },
  {
   "cell_type": "code",
   "execution_count": null,
   "id": "0ac05971-fb23-40ca-82fb-9772d1b20679",
   "metadata": {},
   "outputs": [],
   "source": [
    "from dotpack import Animation\n",
    "animation = Animation()"
   ]
  },
  {
   "cell_type": "code",
   "execution_count": null,
   "id": "1a696522-b5af-44f1-9412-d8badafb7119",
   "metadata": {},
   "outputs": [],
   "source": [
    "# bag set pixel ...  \n",
    "animation.add_frame(bag) # 把 bag 当前状态(bag._img)作为 animation 的一帧\n",
    "# bag set pixel ... \n",
    "animation.add_frame(bag)"
   ]
  },
  {
   "cell_type": "markdown",
   "id": "121e7612-b4d9-4adc-831b-99bbc67a29a8",
   "metadata": {},
   "source": [
    "## 在模拟器里展示动画"
   ]
  },
  {
   "cell_type": "code",
   "execution_count": null,
   "id": "6961a3a7-dfea-461d-a0de-75e29bf6afb7",
   "metadata": {},
   "outputs": [],
   "source": [
    "animation.show(duration=0.1)"
   ]
  },
  {
   "cell_type": "markdown",
   "id": "0823c9ef-7670-4142-a5fe-56375ad5f0f7",
   "metadata": {},
   "source": [
    "## 将动画同步到书包"
   ]
  },
  {
   "cell_type": "code",
   "execution_count": null,
   "id": "8dff1c78-849e-440d-81f8-378d4645f7d5",
   "metadata": {},
   "outputs": [],
   "source": [
    "animation.show(to_bag=bag)"
   ]
  },
  {
   "cell_type": "markdown",
   "id": "ede0e400-01de-474d-9c80-193584f24ada",
   "metadata": {},
   "source": [
    "## 保存为gif"
   ]
  },
  {
   "cell_type": "code",
   "execution_count": null,
   "id": "68ed1ea1-141d-4ba8-898d-645562dc63b5",
   "metadata": {},
   "outputs": [],
   "source": [
    "animation.save(name='hello')"
   ]
  },
  {
   "cell_type": "markdown",
   "id": "5968661a-167b-4a39-b239-e7ca63b3c129",
   "metadata": {},
   "source": [
    "## 加载gif"
   ]
  },
  {
   "cell_type": "code",
   "execution_count": null,
   "id": "c5d2260a-63fe-4f0b-9cef-c5db26afe088",
   "metadata": {},
   "outputs": [],
   "source": [
    "# 加载 gif, 建议使用手机 APP 设计动图。 也可参看动图网站 https://giphy.com/，或者试试表情包\n",
    "animation.load('./hello.gif')"
   ]
  },
  {
   "cell_type": "markdown",
   "id": "a44fcff0-b306-41d6-9ddb-3de95220c446",
   "metadata": {},
   "source": [
    "## 查看、修改某一帧"
   ]
  },
  {
   "cell_type": "code",
   "execution_count": null,
   "id": "61d6d3e2-70f9-472a-91b2-fd8aeb59448e",
   "metadata": {},
   "outputs": [],
   "source": [
    "animation.show_frame(FRAME_ID)\n",
    "animation.remove_frame(FRAME_ID)"
   ]
  },
  {
   "cell_type": "markdown",
   "id": "9e58c7d7-b2dd-424c-bb18-eafdbbf29585",
   "metadata": {},
   "source": [
    "# 控制流（教学内容）\n",
    "参考 [控制流](https://learnku.com/docs/byte-of-python/2018/control_flow/3343)\n",
    "\n",
    "在 LedBag 上阐述控制流."
   ]
  },
  {
   "cell_type": "code",
   "execution_count": null,
   "id": "47df8349-718b-4275-8740-56c413eb8c91",
   "metadata": {},
   "outputs": [],
   "source": [
    "# 顺序执行\n",
    "import time\n",
    "bag.clear() # 清空屏幕\n",
    "bag.set_color('red')\n",
    "time.sleep(1)\n",
    "bag.set_color('green')\n",
    "time.sleep(1)\n",
    "bag.set_color('blue')"
   ]
  },
  {
   "cell_type": "code",
   "execution_count": null,
   "id": "0f731304-c8a9-470c-92b0-c8910ce69295",
   "metadata": {},
   "outputs": [],
   "source": [
    "# if\n",
    "color = input('输入你喜欢的颜色:')\n",
    "if color == '红色':\n",
    "    bag.set_color('red')\n",
    "if color == '绿色':\n",
    "    bag.set_color('green')\n",
    "if color == '蓝色':\n",
    "    bag.set_color('blue')"
   ]
  },
  {
   "cell_type": "code",
   "execution_count": null,
   "id": "b83b56e2-085b-4f89-9d83-f886d341ee37",
   "metadata": {},
   "outputs": [],
   "source": [
    "# while\n",
    "while True:\n",
    "    color = input('输入你喜欢的颜色:')\n",
    "    if color == '红色':\n",
    "        bag.set_color('red')\n",
    "    if color == '绿色':\n",
    "        bag.set_color('green')\n",
    "    if color == '蓝色':\n",
    "        bag.set_color('blue')"
   ]
  },
  {
   "cell_type": "code",
   "execution_count": null,
   "id": "c405ebe0-1671-42c2-849a-0b88176423a4",
   "metadata": {},
   "outputs": [],
   "source": [
    "# for\n",
    "for i in range(3):\n",
    "    print(i)\n",
    "    color = input('输入你喜欢的颜色:')\n",
    "    if color == '红色':\n",
    "        bag.set_color('red')\n",
    "    if color == '绿色':\n",
    "        bag.set_color('green')\n",
    "    if color == '蓝色':\n",
    "        bag.set_color('blue')\n",
    "print(\"结束\")"
   ]
  },
  {
   "cell_type": "code",
   "execution_count": null,
   "id": "9a0863f2-a575-4883-850e-75f0602e2eac",
   "metadata": {},
   "outputs": [],
   "source": [
    "# 点亮一颗\n",
    "bag.clear()\n",
    "bag.set_pixel(0, 0, 'red')  # x, y"
   ]
  },
  {
   "cell_type": "code",
   "execution_count": null,
   "id": "e8b2c118-49e6-45ec-85d5-5fbbcbdaa6c4",
   "metadata": {},
   "outputs": [],
   "source": [
    "# 换个颜色\n",
    "bag.clear()\n",
    "bag.set_pixel(0, 0, 'blue')  # x, y"
   ]
  },
  {
   "cell_type": "code",
   "execution_count": null,
   "id": "e50a15e4-7421-4246-a5f7-ffa4721f086c",
   "metadata": {},
   "outputs": [],
   "source": [
    "# 三颗星\n",
    "bag.clear()\n",
    "bag.set_pixel(0, 0, 'red')  # x, y\n",
    "bag.set_pixel(1, 0, 'red')  # x, y\n",
    "bag.set_pixel(2, 0, 'red')  # x, y"
   ]
  },
  {
   "cell_type": "code",
   "execution_count": null,
   "id": "1a4c7563-4ce5-4ea8-bebf-b83c163e6ced",
   "metadata": {},
   "outputs": [],
   "source": [
    "# 点亮一排\n",
    "bag.clear()\n",
    "for i in range(16):\n",
    "    bag.set_pixel(i, 0, 'red')  # x, y"
   ]
  },
  {
   "cell_type": "code",
   "execution_count": null,
   "id": "812b7884-3cfa-45a0-990c-a22bcee55d00",
   "metadata": {},
   "outputs": [],
   "source": [
    "# 点亮一排 颜色间隔\n",
    "bag.clear()\n",
    "for i in range(16):\n",
    "    if i % 2 == 0:\n",
    "        bag.set_pixel(i, 0, 'red')  # x, y\n",
    "    else:\n",
    "        bag.set_pixel(i, 0, 'blue')  # x, y"
   ]
  },
  {
   "cell_type": "code",
   "execution_count": null,
   "id": "7bfae7cf-15a3-46d0-b663-d2ba444f5993",
   "metadata": {},
   "outputs": [],
   "source": [
    "# 点亮斜边\n",
    "bag.clear()\n",
    "for i in range(16):\n",
    "    for j in range(16):\n",
    "        if i == j:\n",
    "            bag.set_pixel(i,j, 'red')"
   ]
  },
  {
   "cell_type": "code",
   "execution_count": null,
   "id": "80b08798-8700-45ca-a9d8-731508388cb2",
   "metadata": {},
   "outputs": [],
   "source": [
    "# 点亮斜边 颜色间隔\n",
    "bag.clear()\n",
    "for i in range(16):\n",
    "    for j in range(16):\n",
    "        if i == j:\n",
    "            if i % 2 == 0:\n",
    "                bag.set_pixel(i,j, 'red')\n",
    "            else:\n",
    "                bag.set_pixel(i,j, 'blue')"
   ]
  },
  {
   "cell_type": "markdown",
   "id": "5a7e0979-0b58-45f6-8950-6dafcfb33239",
   "metadata": {},
   "source": [
    "## 获取状态"
   ]
  },
  {
   "cell_type": "code",
   "execution_count": null,
   "id": "42f9df38-c8e7-4a2d-a969-9822fc1c4fa3",
   "metadata": {},
   "outputs": [],
   "source": [
    "bag.set_pixel(1,1, \"red\")\n",
    "bag.get_pixel(1,1)  # (255, 0, 0)"
   ]
  },
  {
   "cell_type": "code",
   "execution_count": null,
   "id": "5975c378-c946-417d-b10c-f6c11dfc84cd",
   "metadata": {},
   "outputs": [],
   "source": [
    "import time\n",
    "bag.set_pixel(1,1, \"red\")\n",
    "r, g, b = bag.get_pixel(1,1)\n",
    "\n",
    "while r > 20:\n",
    "    r = int(r / 1.1)  # 红色不断衰减\n",
    "    bag.set_pixel(1,1, (r, g, b))\n",
    "    time.sleep(0.1)\n",
    "print(r)"
   ]
  },
  {
   "cell_type": "markdown",
   "id": "67e0a01f-2a5b-4a04-854f-a649e50a359d",
   "metadata": {},
   "source": [
    "## 往下掉的草莓\n",
    "使用 PIL 创建新图像，注意x, y坐标相反"
   ]
  },
  {
   "cell_type": "code",
   "execution_count": null,
   "id": "5cd31108-88cc-4b57-9c84-5186af5a8629",
   "metadata": {},
   "outputs": [],
   "source": [
    "bag.display_emoji('🍓')"
   ]
  },
  {
   "cell_type": "code",
   "execution_count": null,
   "id": "aab13102-a4fb-46e6-96cb-ce6f13a74184",
   "metadata": {},
   "outputs": [],
   "source": [
    "from PIL import Image\n",
    "\n",
    "img_pil = Image.new(mode='RGB', size=(16, 16))\n",
    "for x in range(16):\n",
    "    for y in range(16):\n",
    "        color = bag.get_pixel(x, y)\n",
    "        # 注意 PIL img 的 x, y 与 bag 是相反的\n",
    "        x_pil, y_pil = y, x\n",
    "        y_pil = y_pil + 7  # 掉落 7 格\n",
    "        if y_pil <= 15:\n",
    "            # 有效像素\n",
    "            img_pil.putpixel((x_pil, y_pil), color)  \n",
    "bag.show(img_pil)"
   ]
  },
  {
   "cell_type": "markdown",
   "id": "8c0aab9e-80ef-4f96-91f2-645eeee5399d",
   "metadata": {},
   "source": [
    "## 保存图像"
   ]
  },
  {
   "cell_type": "code",
   "execution_count": null,
   "id": "88710ce8-a2c8-44e0-aedd-70f1f3aafa12",
   "metadata": {},
   "outputs": [],
   "source": [
    "bag.display_emoji('🍇')\n",
    "file_path = bag.save('葡萄')"
   ]
  },
  {
   "cell_type": "markdown",
   "id": "057b7803-b02b-49fd-9fb3-a48aaee30d54",
   "metadata": {},
   "source": [
    "## 函数: 笑脸 😊"
   ]
  },
  {
   "cell_type": "code",
   "execution_count": null,
   "id": "bf22c71f-b5e6-4ab9-bb02-2a5a70637345",
   "metadata": {},
   "outputs": [],
   "source": [
    "def smile():\n",
    "    bag.clear()\n",
    "    eye = 'red'\n",
    "    mouth = 'blue'\n",
    "    bag.set_pixel(3,4, eye)\n",
    "    bag.set_pixel(3,11, eye)\n",
    "\n",
    "    bag.set_pixel(10,3, mouth)\n",
    "    bag.set_pixel(10,12, mouth)\n",
    "\n",
    "    bag.set_pixel(11, 4, mouth)\n",
    "    bag.set_pixel(11, 5, mouth)\n",
    "    bag.set_pixel(11, 6, mouth)\n",
    "    bag.set_pixel(11, 7, mouth)\n",
    "    bag.set_pixel(11, 8, mouth)\n",
    "    bag.set_pixel(11, 9, mouth)\n",
    "    bag.set_pixel(11, 10, mouth)\n",
    "    bag.set_pixel(11, 11, mouth)\n",
    "\n",
    "smile()"
   ]
  },
  {
   "cell_type": "code",
   "execution_count": null,
   "id": "fd4388f1-1279-41de-9f92-1564aaecd431",
   "metadata": {},
   "outputs": [],
   "source": [
    "# 参数\n",
    "def smile(eye, mouth):\n",
    "    bag.clear()\n",
    "    bag.set_pixel(3,4, eye)\n",
    "    bag.set_pixel(3,11, eye)\n",
    "\n",
    "    bag.set_pixel(10,3, mouth)\n",
    "    bag.set_pixel(10,12, mouth)\n",
    "\n",
    "    bag.set_pixel(11, 4, mouth)\n",
    "    bag.set_pixel(11, 5, mouth)\n",
    "    bag.set_pixel(11, 6, mouth)\n",
    "    bag.set_pixel(11, 7, mouth)\n",
    "    bag.set_pixel(11, 8, mouth)\n",
    "    bag.set_pixel(11, 9, mouth)\n",
    "    bag.set_pixel(11, 10, mouth)\n",
    "    bag.set_pixel(11, 11, mouth)\n",
    "\n",
    "smile('blue', 'red')"
   ]
  },
  {
   "cell_type": "code",
   "execution_count": null,
   "id": "a582afa2-2f52-4cb1-a1ae-d6bd598c79ae",
   "metadata": {},
   "outputs": [],
   "source": []
  }
 ],
 "metadata": {
  "kernelspec": {
   "display_name": "Python 3 (ipykernel)",
   "language": "python",
   "name": "python3"
  },
  "language_info": {
   "codemirror_mode": {
    "name": "ipython",
    "version": 3
   },
   "file_extension": ".py",
   "mimetype": "text/x-python",
   "name": "python",
   "nbconvert_exporter": "python",
   "pygments_lexer": "ipython3",
   "version": "3.8.2"
  }
 },
 "nbformat": 4,
 "nbformat_minor": 5
}
