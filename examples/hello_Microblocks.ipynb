{
 "cells": [
  {
   "cell_type": "markdown",
   "id": "1880cd28-686f-4e3a-a7ca-b987f206bfb2",
   "metadata": {},
   "source": [
    "# MicroblocksClient API\n",
    "pack._microblocks_client\n",
    "\n",
    "* list_file_names\n",
    "* upload_image(pilimage, filename=\"image.bmp\")\n",
    "* display_image(filename)\n",
    "* delete_file(filename)\n",
    "\n",
    "\n",
    "## todo \n",
    "* upload_gif\n",
    "* display_remote_gif\n",
    "\n",
    "## tool\n",
    "* pack._imshow(pack._img)"
   ]
  },
  {
   "cell_type": "code",
   "execution_count": null,
   "id": "51f37db6-59e2-4930-90df-ffb8a484625b",
   "metadata": {},
   "outputs": [],
   "source": [
    "from dotpack import DotPack\n",
    "\n",
    "pack = DotPack()\n",
    "address = '192.168.21.133'\n",
    "# pack.connect()  # 连接 jupyterlab 模拟器\n",
    "pack.connect(address)# 输入书包 address 可连接到书包"
   ]
  },
  {
   "cell_type": "markdown",
   "id": "c521dbc6-8839-4755-ba32-434634df4ae9",
   "metadata": {},
   "source": [
    "## list_file_names"
   ]
  },
  {
   "cell_type": "code",
   "execution_count": null,
   "id": "281db5c5-2a5b-415b-aca7-5d842bce5589",
   "metadata": {},
   "outputs": [],
   "source": [
    "file_names = pack._microblocks_client.list_file_names()\n",
    "file_names"
   ]
  },
  {
   "cell_type": "markdown",
   "id": "e09a38f3-41b9-42ee-84ce-0424c00f61ff",
   "metadata": {},
   "source": [
    "## delete_file"
   ]
  },
  {
   "cell_type": "code",
   "execution_count": null,
   "id": "c790054c-5eb2-4bf7-b8d1-ce2dc667bd86",
   "metadata": {},
   "outputs": [],
   "source": [
    "file_names = pack._microblocks_client.delete_file('image1.bmp')"
   ]
  },
  {
   "cell_type": "markdown",
   "id": "d2abf644-e7a3-4983-a4da-a3e9968765a2",
   "metadata": {},
   "source": [
    "## upload_image"
   ]
  },
  {
   "cell_type": "code",
   "execution_count": null,
   "id": "3e671b54-fbdd-4467-b38d-126d8e83af82",
   "metadata": {},
   "outputs": [],
   "source": [
    "from PIL import Image\n",
    "\n",
    "def generate_img(color1=(255,0,0),color2=(0,0,0)):\n",
    "    size = (16, 16)\n",
    "    img = Image.new('RGB', size)\n",
    "    pixels = img.load()\n",
    "    for i in range(16):\n",
    "        for j in range(16):\n",
    "            if i == j:\n",
    "                pixels[i,j] = color1\n",
    "            else:\n",
    "                pixels[i,j] = color2\n",
    "    return img"
   ]
  },
  {
   "cell_type": "code",
   "execution_count": null,
   "id": "5b61bd82-b283-42d7-8dd9-919c5db6556a",
   "metadata": {},
   "outputs": [],
   "source": [
    "color1 = (255, 0, 0)\n",
    "color2 = (0, 0, 0)\n",
    "\n",
    "img = generate_img(color1, color2)\n",
    "pack._microblocks_client.upload_image(img, filename=\"红色.bmp\")"
   ]
  },
  {
   "cell_type": "code",
   "execution_count": null,
   "id": "8d88ea08-bdef-4a27-ac73-2427ad4f9078",
   "metadata": {},
   "outputs": [],
   "source": [
    "color1 = (0, 255, 0)\n",
    "color2 = (0, 0, 0)\n",
    "\n",
    "img = generate_img(color1, color2)\n",
    "pack._microblocks_client.upload_image(img, filename=\"绿色.bmp\")"
   ]
  },
  {
   "cell_type": "markdown",
   "id": "2541036c-3405-4a0b-b153-aaa0b6b5bbcf",
   "metadata": {},
   "source": [
    "## display_image"
   ]
  },
  {
   "cell_type": "code",
   "execution_count": null,
   "id": "a4991c56-2445-4a8b-8ace-93c23c3e29fd",
   "metadata": {},
   "outputs": [],
   "source": [
    "pack._microblocks_client.display_image(filename=\"红色.bmp\")\n",
    "pack._microblocks_client.display_image(filename=\"绿色.bmp\")"
   ]
  },
  {
   "cell_type": "markdown",
   "id": "34fcd95c-faa2-42cd-8b9a-61a9e23d7e93",
   "metadata": {},
   "source": [
    "## test gif\n",
    "使用图片构成 目录\n",
    "\n",
    "image1.bmp\n",
    "image2.bmp\n",
    "\n",
    "display_image\n",
    "\n",
    "gif_program.txt 描述图片规则 程序\n",
    "\n",
    "### 例子\n",
    "snow crash\n",
    "\n",
    "6张图片"
   ]
  },
  {
   "cell_type": "code",
   "execution_count": null,
   "id": "60fb6eeb-b54d-42c6-9cee-da05b4fd9249",
   "metadata": {},
   "outputs": [],
   "source": [
    "import random\n",
    "from PIL import Image\n",
    "\n",
    "def generate_frame():\n",
    "    size = (16, 16)\n",
    "    img = Image.new('RGB', size)\n",
    "    pixels = img.load()\n",
    "    for i in range(16):\n",
    "        for j in range(16):\n",
    "            if random.choice([True, False]):\n",
    "                pixels[i,j] = (255,255,255)\n",
    "            else:\n",
    "                pixels[i,j] = (0,0,0)\n",
    "    return img"
   ]
  },
  {
   "cell_type": "code",
   "execution_count": null,
   "id": "8b7567f7-632c-4f16-a3b0-e874180377fb",
   "metadata": {},
   "outputs": [],
   "source": [
    "img = generate_frame()\n",
    "pack._imshow(img)"
   ]
  },
  {
   "cell_type": "code",
   "execution_count": null,
   "id": "052fb25d-4a6d-4d94-ba32-f0d26d24c46d",
   "metadata": {},
   "outputs": [],
   "source": [
    "from tqdm import tqdm\n",
    "\n",
    "frames = [generate_frame() for i in range(10)]\n",
    "for index, img in enumerate(tqdm(frames)):\n",
    "    pack._microblocks_client.upload_image(filename=f\"SnowCrash-{index}.bmp\")"
   ]
  },
  {
   "cell_type": "code",
   "execution_count": null,
   "id": "e2ac2872-af40-46e2-82bc-ce3005f5aa9c",
   "metadata": {},
   "outputs": [],
   "source": [
    "file_names = pack._microblocks_client.list_file_names()\n",
    "file_names"
   ]
  },
  {
   "cell_type": "code",
   "execution_count": null,
   "id": "74211efa-2a5d-4ede-986f-1d0a6363d897",
   "metadata": {},
   "outputs": [],
   "source": [
    "import time\n",
    "\n",
    "pack._microblocks_client.set_brightness(5)\n",
    "\n",
    "# 最好通过一个指令展示gif\n",
    "for i in range(10):\n",
    "    # time.sleep(0.1)\n",
    "    pack._microblocks_client.display_image(filename=f\"SnowCrash-{i}.bmp\")"
   ]
  },
  {
   "cell_type": "code",
   "execution_count": null,
   "id": "1e4d4a00-54eb-448e-b71d-d7527b112a0b",
   "metadata": {},
   "outputs": [],
   "source": [
    "# 最好通过一个指令展示gif\n",
    "# 自动寻找 规则  SnowCrash-{i}.bmp\n",
    "# 每次上传把下一张删除\n",
    "pack._microblocks_client.display_animation('SnowCrash')"
   ]
  },
  {
   "cell_type": "code",
   "execution_count": null,
   "id": "3af2c374-7fd6-4cd1-8018-093ee9e03ab2",
   "metadata": {},
   "outputs": [],
   "source": [
    "pack.clear()"
   ]
  },
  {
   "cell_type": "code",
   "execution_count": null,
   "id": "829c872e-12f2-4aec-ad97-140255c45c7a",
   "metadata": {},
   "outputs": [],
   "source": []
  },
  {
   "cell_type": "markdown",
   "id": "b39a8ab9-e5b8-4db7-be1f-df6cfc021a92",
   "metadata": {},
   "source": [
    "## legbag api"
   ]
  },
  {
   "cell_type": "code",
   "execution_count": null,
   "id": "78a48b8e-eaf7-4d5a-958e-33ff95705ad8",
   "metadata": {},
   "outputs": [],
   "source": [
    "pack.clear()"
   ]
  },
  {
   "cell_type": "code",
   "execution_count": null,
   "id": "10d80148-ccac-41b1-b31b-73bd097287a9",
   "metadata": {},
   "outputs": [],
   "source": [
    "pack.set_pixel(0, 0, 'blue')"
   ]
  },
  {
   "cell_type": "code",
   "execution_count": null,
   "id": "ea86656b-cf52-4e7e-a3f7-63bc86f4a08c",
   "metadata": {},
   "outputs": [],
   "source": [
    "pack._microblocks_client.display_char(\"2\")"
   ]
  },
  {
   "cell_type": "code",
   "execution_count": null,
   "id": "8cd3ac13-5283-48f8-87ba-818a25455c11",
   "metadata": {},
   "outputs": [],
   "source": [
    "import time\n",
    "for i in [3,2,1,0]:\n",
    "    pack._microblocks_client.display_char(i)\n",
    "    time.sleep(1)"
   ]
  },
  {
   "cell_type": "code",
   "execution_count": null,
   "id": "0bc3ee80-e0a2-4dd1-8aba-a651c497d79a",
   "metadata": {},
   "outputs": [],
   "source": [
    "pack.display_text(\"hello\")"
   ]
  },
  {
   "cell_type": "code",
   "execution_count": null,
   "id": "5e9d8cd5-e354-45f8-bb9c-9bda5d97efbb",
   "metadata": {},
   "outputs": [],
   "source": [
    "while True:\n",
    "    pack.set_background('green')\n",
    "    pack.set_background('blue')\n",
    "    pack.set_background('red')"
   ]
  },
  {
   "cell_type": "code",
   "execution_count": null,
   "id": "5245eb2e-7991-4590-a37b-25bbabadc895",
   "metadata": {},
   "outputs": [],
   "source": [
    "# 点亮斜边\n",
    "# pack.clear()\n",
    "for i in range(16):\n",
    "    for j in range(16):\n",
    "        if i == j:\n",
    "            pack.set_pixel(i,j, 'red')"
   ]
  },
  {
   "cell_type": "code",
   "execution_count": null,
   "id": "6998a889-fae3-4748-9a6a-51ee8f101636",
   "metadata": {},
   "outputs": [],
   "source": [
    "pack.display_emoji('🍊')"
   ]
  },
  {
   "cell_type": "code",
   "execution_count": null,
   "id": "8a3e5e56-55a4-4d85-b875-f1854ee0d3dd",
   "metadata": {},
   "outputs": [],
   "source": [
    "pack.display_char_zh('你')"
   ]
  },
  {
   "cell_type": "code",
   "execution_count": null,
   "id": "891e39cd-7293-4421-b7d9-261a6c140813",
   "metadata": {},
   "outputs": [],
   "source": []
  }
 ],
 "metadata": {
  "kernelspec": {
   "display_name": "Python 3 (ipykernel)",
   "language": "python",
   "name": "python3"
  },
  "language_info": {
   "codemirror_mode": {
    "name": "ipython",
    "version": 3
   },
   "file_extension": ".py",
   "mimetype": "text/x-python",
   "name": "python",
   "nbconvert_exporter": "python",
   "pygments_lexer": "ipython3",
   "version": "3.8.12"
  }
 },
 "nbformat": 4,
 "nbformat_minor": 5
}
